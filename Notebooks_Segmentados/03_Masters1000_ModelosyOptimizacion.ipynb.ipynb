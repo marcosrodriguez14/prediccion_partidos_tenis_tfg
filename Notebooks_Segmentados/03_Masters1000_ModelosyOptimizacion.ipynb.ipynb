{
 "cells": [
  {
   "cell_type": "markdown",
   "id": "9e297bbb-6906-4b06-838c-4400b3c89d34",
   "metadata": {},
   "source": [
    "# Masters 1000 modelos"
   ]
  },
  {
   "cell_type": "markdown",
   "id": "4537d6da-8cd9-416c-a177-5363de77a860",
   "metadata": {},
   "source": [
    "### Cargar dataframe para añadir columnas\n"
   ]
  },
  {
   "cell_type": "code",
   "execution_count": null,
   "id": "c48a66ea-1fb9-456e-9d88-08c9aaf25ff4",
   "metadata": {},
   "outputs": [],
   "source": [
    "# Ruta base del archivo\n",
    "ruta_base = r\"./Masters1000/columnas_añadidas\"\n",
    "# Nombre del archivo\n",
    "nombre_archivo = \"escaladofinal.csv\"\n"
   ]
  },
  {
   "cell_type": "code",
   "execution_count": null,
   "id": "60107642-8d41-4f09-9762-0172bee2fbbf",
   "metadata": {},
   "outputs": [],
   "source": [
    "ruta_completa = os.path.join(ruta_base, nombre_archivo)\n",
    "\n",
    "# Leer el CSV correctamente\n",
    "df = pd.read_csv(\n",
    "    ruta_completa,\n",
    "    delimiter=\";\",   # separador de columnas\n",
    "    decimal=\",\"      # separador decimal \n",
    ")\n",
    "\n",
    "# Convertir fecha\n",
    "df[\"Date\"] = pd.to_datetime(df[\"Date\"], format=\"%d/%m/%Y\", errors=\"coerce\")\n",
    "\n",
    "# Ordenar por fecha\n",
    "df = df.sort_values(by=\"Date\")\n",
    "\n",
    "# Mostrar resumen\n",
    "df.info()\n"
   ]
  },
  {
   "cell_type": "markdown",
   "id": "f3aafd3e-ec41-4595-bd1a-c869d1bc6ccd",
   "metadata": {},
   "source": [
    "## Modelo Regresión Logistica (M1000)"
   ]
  },
  {
   "cell_type": "code",
   "execution_count": null,
   "id": "f8190cda-56e2-491c-844d-f09eb8a670a1",
   "metadata": {},
   "outputs": [],
   "source": [
    "# Lista de columnas a escalar\n",
    "features_to_scale = [\n",
    "    \"Surface_WinRate_Favorite\", \"Surface_WinRate_Not_Favorite\",\n",
    "    \"Surface_Matches_Favorite\", \"Surface_Matches_Not_Favorite\",\n",
    "    \"WinStreak_Favorite\", \"WinStreak_Not_Favorite\", \"Win_Streak_Diff\",\n",
    "    \"Rank_Favorite\", \"Rank_Not_Favorite\", \"Rank_Diff_Signed\", \"Rank_Diff_Abs\",\n",
    "    #\"GrandSlams_Favorite\", \"GrandSlams_Not_Favorite\"\n",
    "    \"Masters1000_Favorite\",\"Masters1000_Not_Favorite\"\n",
    "]\n",
    "\n",
    "# Asegurarse de que son numéricos\n",
    "for col in features_to_scale:\n",
    "    df[col] = pd.to_numeric(df[col], errors=\"coerce\")\n",
    "\n",
    "# Escalado con StandardScaler\n",
    "scaler = StandardScaler()\n",
    "df[features_to_scale] = scaler.fit_transform(df[features_to_scale])\n"
   ]
  },
  {
   "cell_type": "code",
   "execution_count": null,
   "id": "68642c32-ebee-4f60-afb2-33afdf9f6b79",
   "metadata": {},
   "outputs": [],
   "source": [
    "\n",
    "# Contar los valores nulos por columna para comprobar que no haya nulos\n",
    "print(df[features_to_scale + [\"Favorite_Wins\"]].isna().sum())"
   ]
  },
  {
   "cell_type": "code",
   "execution_count": null,
   "id": "aa7506fc-29cb-4731-b356-67f531c69ff8",
   "metadata": {},
   "outputs": [],
   "source": [
    "\n",
    "X = df[features_to_scale]  # Asegurarse de que no haya columnas extra\n",
    "y = df[\"Favorite_Wins\"]"
   ]
  },
  {
   "cell_type": "code",
   "execution_count": null,
   "id": "a7f1fc61-a1f3-450b-a5ff-a93a7a16b3c2",
   "metadata": {},
   "outputs": [],
   "source": [
    "\n",
    "#Comprobamos que no haya nulos en x ni en y\n",
    "print(\"¿NaNs en X?:\", X.isna().any().any()) \n",
    "print(\"¿NaNs en y?:\", y.isna().any())"
   ]
  },
  {
   "cell_type": "code",
   "execution_count": null,
   "id": "90a718e7-fa9d-4768-a14a-17a771c50bc9",
   "metadata": {},
   "outputs": [],
   "source": [
    "# Dividir los datos\n",
    "X_train, X_test, y_train, y_test = train_test_split(X, y, test_size=0.2, random_state=42)\n",
    "\n",
    "# Modelo de regresión logística\n",
    "model = LogisticRegression(max_iter=1000, random_state=42)\n",
    "model.fit(X_train, y_train)\n",
    "\n",
    "# Predicción\n",
    "y_pred = model.predict(X_test)\n",
    "\n",
    "# Calcular y mostrar la métrica\n",
    "score = balanced_accuracy_score(y_test, y_pred)\n",
    "print(\"Balanced Accuracy:\", round(score, 3))\n"
   ]
  },
  {
   "cell_type": "code",
   "execution_count": null,
   "id": "916c6313-c663-4d41-8ffc-aefe7d6d7c2a",
   "metadata": {},
   "outputs": [],
   "source": [
    "print(y.value_counts(normalize=True))"
   ]
  },
  {
   "cell_type": "code",
   "execution_count": null,
   "id": "1360c86e-6bab-497c-9746-9340bd7423ad",
   "metadata": {},
   "outputs": [],
   "source": [
    "# Dividir los datos\n",
    "X_train, X_test, y_train, y_test = train_test_split(X, y, test_size=0.2, random_state=42)\n",
    "\n",
    "# Modelo de regresión logística con ajuste por desbalance\n",
    "model = LogisticRegression(class_weight='balanced', max_iter=1000, random_state=42)\n",
    "model.fit(X_train, y_train)\n",
    "\n",
    "# Predicción\n",
    "y_pred = model.predict(X_test)\n",
    "\n",
    "# Evaluar con balanced accuracy\n",
    "score = balanced_accuracy_score(y_test, y_pred)\n",
    "print(\"Balanced Accuracy:\", round(score, 3))"
   ]
  },
  {
   "cell_type": "markdown",
   "id": "9155e4b1-6a12-4346-9547-28d5de6d58ad",
   "metadata": {},
   "source": [
    "### Prueba con validación cruzada (M1000)"
   ]
  },
  {
   "cell_type": "code",
   "execution_count": null,
   "id": "46a4cd65-fa92-46d2-b423-4c256727168d",
   "metadata": {},
   "outputs": [],
   "source": [
    "# Usamos solo las columnas que queremos escalar\n",
    "X = df[features_to_scale]\n",
    "y = df[\"Favorite_Wins\"]  \n",
    "\n",
    "# Modelo con validación cruzada (5 folds)\n",
    "model = LogisticRegression(class_weight='balanced', max_iter=1000, random_state=42)\n",
    "y_pred_cv = cross_val_predict(model, X, y, cv=5)\n",
    "\n",
    "# Evaluación\n",
    "score_cv = balanced_accuracy_score(y, y_pred_cv)\n",
    "print(\"Balanced Accuracy (CV):\", round(score_cv, 3))"
   ]
  },
  {
   "cell_type": "markdown",
   "id": "32134ecb-1bf1-4494-a5e9-5d71ccfc8258",
   "metadata": {},
   "source": [
    "###  Evaluación del modelo Regresión logistica (M1000)"
   ]
  },
  {
   "cell_type": "code",
   "execution_count": null,
   "id": "faabc91f-748a-48a4-b65a-cfc914bf5912",
   "metadata": {},
   "outputs": [],
   "source": [
    "# Predicciones con validación cruzada\n",
    "y_proba = cross_val_predict(model, X, y, cv=5, method='predict_proba')\n",
    "y_pred = (y_proba[:, 1] >= 0.5).astype(int)  # convertir probabilidades en clases\n",
    "\n",
    "# Métricas\n",
    "print(\"Accuracy:\", round(accuracy_score(y, y_pred), 3))\n",
    "print(\"Balanced Accuracy:\", round(balanced_accuracy_score(y, y_pred), 3))\n",
    "print(\"Precision:\", round(precision_score(y, y_pred), 3))\n",
    "print(\"Recall:\", round(recall_score(y, y_pred), 3))\n",
    "print(\"F1-Score:\", round(f1_score(y, y_pred), 3))\n",
    "print(\"AUC-ROC:\", round(roc_auc_score(y, y_proba[:, 1]), 3))\n",
    "print(\"Log Loss:\", round(log_loss(y, y_proba[:, 1]), 3))\n",
    "\n",
    "# Matriz de confusión e informe\n",
    "print(\"Confusion Matrix:\\n\", confusion_matrix(y, y_pred))\n",
    "print(\"\\nClassification Report:\\n\", classification_report(y, y_pred))\n"
   ]
  },
  {
   "cell_type": "markdown",
   "id": "8a0bf281-e778-4d95-9555-b2a752cec6ac",
   "metadata": {},
   "source": [
    "## Random Forest + validación cruzada (M1000)"
   ]
  },
  {
   "cell_type": "code",
   "execution_count": null,
   "id": "0124dcb7-0054-410e-b45b-c293fb4cea68",
   "metadata": {},
   "outputs": [],
   "source": [
    "# Modelo Random Forest\n",
    "rf_model = RandomForestClassifier(n_estimators=100, class_weight='balanced', random_state=42)\n",
    "\n",
    "# Validación cruzada\n",
    "y_proba_rf = cross_val_predict(rf_model, X, y, cv=5, method='predict_proba')\n",
    "y_pred_rf = (y_proba_rf[:, 1] >= 0.5).astype(int)"
   ]
  },
  {
   "cell_type": "code",
   "execution_count": null,
   "id": "c88ccacd-3105-404f-91e2-ee1ea78ac5c2",
   "metadata": {},
   "outputs": [],
   "source": [
    "# Métricas\n",
    "print(\"Accuracy:\", round(accuracy_score(y, y_pred_rf), 3))\n",
    "print(\"Balanced Accuracy:\", round(balanced_accuracy_score(y, y_pred_rf), 3))\n",
    "print(\"Precision:\", round(precision_score(y, y_pred_rf), 3))\n",
    "print(\"Recall:\", round(recall_score(y, y_pred_rf), 3))\n",
    "print(\"F1-Score:\", round(f1_score(y, y_pred_rf), 3))\n",
    "print(\"AUC-ROC:\", round(roc_auc_score(y, y_proba_rf[:, 1]), 3))\n",
    "print(\"Log Loss:\", round(log_loss(y, y_proba_rf[:, 1]), 3))\n",
    "\n",
    "# Matriz de confusión e informe\n",
    "print(\"Confusion Matrix:\\n\", confusion_matrix(y, y_pred_rf))\n",
    "print(\"\\nClassification Report:\\n\", classification_report(y, y_pred_rf))"
   ]
  },
  {
   "cell_type": "markdown",
   "id": "6479d1d5-c8e4-4e2b-853b-1e717d86e116",
   "metadata": {},
   "source": [
    "## Modelo Gradient Boosting (M1000)"
   ]
  },
  {
   "cell_type": "code",
   "execution_count": null,
   "id": "96c44797-51a3-47a9-8a25-756ed41de500",
   "metadata": {},
   "outputs": [],
   "source": [
    "# Modelo Gradient Boosting\n",
    "gb_model = GradientBoostingClassifier(n_estimators=100, learning_rate=0.1, max_depth=3, random_state=42)\n",
    "\n",
    "# Validación cruzada\n",
    "y_proba_gb = cross_val_predict(gb_model, X, y, cv=5, method='predict_proba')\n",
    "y_pred_gb = (y_proba_gb[:, 1] >= 0.5).astype(int)\n",
    "\n",
    "\n",
    "# Métricas\n",
    "print(\"Accuracy:\", round(accuracy_score(y, y_pred_gb), 3))\n",
    "print(\"Balanced Accuracy:\", round(balanced_accuracy_score(y, y_pred_gb), 3))\n",
    "print(\"Precision:\", round(precision_score(y, y_pred_gb), 3))\n",
    "print(\"Recall:\", round(recall_score(y, y_pred_gb), 3))\n",
    "print(\"F1-Score:\", round(f1_score(y, y_pred_gb), 3))\n",
    "print(\"AUC-ROC:\", round(roc_auc_score(y, y_proba_gb[:, 1]), 3))\n",
    "print(\"Log Loss:\", round(log_loss(y, y_proba_gb[:, 1]), 3))\n",
    "\n",
    "# Matriz de confusión e informe\n",
    "print(\"Confusion Matrix:\\n\", confusion_matrix(y, y_pred_gb))\n",
    "print(\"\\nClassification Report:\\n\", classification_report(y, y_pred_gb))"
   ]
  },
  {
   "cell_type": "markdown",
   "id": "52a2428a-b9ca-49b9-8683-fa40121d211c",
   "metadata": {},
   "source": [
    "## Modelo Gradient Boosting balanceado (M1000)"
   ]
  },
  {
   "cell_type": "code",
   "execution_count": null,
   "id": "41164f8b-18e6-4308-ba32-cc81627f82ed",
   "metadata": {},
   "outputs": [],
   "source": [
    "\n",
    "gb_model = HistGradientBoostingClassifier(class_weight='balanced', max_iter=100, learning_rate=0.1, max_depth=6, random_state=42)\n",
    "\n",
    "# Validación cruzada\n",
    "y_proba_gb = cross_val_predict(gb_model, X, y, cv=5, method='predict_proba')\n",
    "y_pred_gb = (y_proba_gb[:, 1] >= 0.5).astype(int)\n",
    "\n",
    "\n",
    "print(\"Accuracy:\", round(accuracy_score(y, y_pred_gb), 3))\n",
    "print(\"Balanced Accuracy:\", round(balanced_accuracy_score(y, y_pred_gb), 3))\n",
    "print(\"Precision:\", round(precision_score(y, y_pred_gb), 3))\n",
    "print(\"Recall:\", round(recall_score(y, y_pred_gb), 3))\n",
    "print(\"F1-Score:\", round(f1_score(y, y_pred_gb), 3))\n",
    "print(\"AUC-ROC:\", round(roc_auc_score(y, y_proba_gb[:, 1]), 3))\n",
    "print(\"Log Loss:\", round(log_loss(y, y_proba_gb[:, 1]), 3))\n",
    "\n",
    "print(\"Confusion Matrix:\\n\", confusion_matrix(y, y_pred_gb))\n",
    "print(\"\\nClassification Report:\\n\", classification_report(y, y_pred_gb))"
   ]
  },
  {
   "cell_type": "markdown",
   "id": "6b70335c-1b02-4f92-b654-f228a7a1fbfb",
   "metadata": {},
   "source": [
    "## MLPClassifier (M1000)"
   ]
  },
  {
   "cell_type": "code",
   "execution_count": null,
   "id": "9c87251a-80a2-46f4-9e6d-77099f82bc16",
   "metadata": {},
   "outputs": [],
   "source": [
    "# Modelo MLP\n",
    "mlp_model = MLPClassifier(\n",
    "    hidden_layer_sizes=(100,),  # una capa oculta con 100 neuronas\n",
    "    max_iter=300,\n",
    "    alpha=1e-4,\n",
    "    solver='adam',\n",
    "    random_state=42\n",
    ")\n",
    "\n",
    "# Validación cruzada\n",
    "y_proba_mlp = cross_val_predict(mlp_model, X, y, cv=5, method='predict_proba')\n",
    "y_pred_mlp = (y_proba_mlp[:, 1] >= 0.5).astype(int)\n",
    "\n",
    "\n",
    "\n",
    "# Métricas\n",
    "print(\"Accuracy:\", round(accuracy_score(y, y_pred_mlp), 3))\n",
    "print(\"Balanced Accuracy:\", round(balanced_accuracy_score(y, y_pred_mlp), 3))\n",
    "print(\"Precision:\", round(precision_score(y, y_pred_mlp), 3))\n",
    "print(\"Recall:\", round(recall_score(y, y_pred_mlp), 3))\n",
    "print(\"F1-Score:\", round(f1_score(y, y_pred_mlp), 3))\n",
    "print(\"AUC-ROC:\", round(roc_auc_score(y, y_proba_mlp[:, 1]), 3))\n",
    "print(\"Log Loss:\", round(log_loss(y, y_proba_mlp[:, 1]), 3))\n",
    "\n",
    "# Matriz de confusión e informe\n",
    "print(\"Confusion Matrix:\\n\", confusion_matrix(y, y_pred_mlp))\n",
    "print(\"\\nClassification Report:\\n\", classification_report(y, y_pred_mlp))\n"
   ]
  },
  {
   "cell_type": "markdown",
   "id": "103c8f4d-bb3f-447a-a16c-c8f6fe36681c",
   "metadata": {},
   "source": [
    "# MLPClassifier con SMOTE (M1000)"
   ]
  },
  {
   "cell_type": "code",
   "execution_count": null,
   "id": "27043272-eda0-477e-b374-309908482cb9",
   "metadata": {},
   "outputs": [],
   "source": [
    "# 1. Dividir los datos\n",
    "X_train, X_test, y_train, y_test = train_test_split(X, y, test_size=0.2, random_state=42)\n",
    "\n",
    "# 2. Aplicar SMOTE al conjunto de entrenamiento\n",
    "smote = SMOTE(random_state=42)\n",
    "X_train_sm, y_train_sm = smote.fit_resample(X_train, y_train)\n",
    "\n",
    "# 3. Entrenar MLP sobre datos balanceados\n",
    "mlp_model = MLPClassifier(hidden_layer_sizes=(100,), max_iter=300, random_state=42)\n",
    "mlp_model.fit(X_train_sm, y_train_sm)\n",
    "\n",
    "# 4. Predecir sobre el test original\n",
    "y_pred_mlp = mlp_model.predict(X_test)\n",
    "y_proba_mlp = mlp_model.predict_proba(X_test)\n",
    "\n",
    "\n",
    "# 5. Métricas\n",
    "print(\"Accuracy:\", round(accuracy_score(y_test, y_pred_mlp), 3))\n",
    "print(\"Balanced Accuracy:\", round(balanced_accuracy_score(y_test, y_pred_mlp), 3))\n",
    "print(\"Precision:\", round(precision_score(y_test, y_pred_mlp), 3))\n",
    "print(\"Recall:\", round(recall_score(y_test, y_pred_mlp), 3))\n",
    "print(\"F1-Score:\", round(f1_score(y_test, y_pred_mlp), 3))\n",
    "print(\"AUC-ROC:\", round(roc_auc_score(y_test, y_proba_mlp[:, 1]), 3))\n",
    "print(\"Log Loss:\", round(log_loss(y_test, y_proba_mlp[:, 1]), 3))\n",
    "\n",
    "print(\"Confusion Matrix:\\n\", confusion_matrix(y_test, y_pred_mlp))\n",
    "print(\"\\nClassification Report:\\n\", classification_report(y_test, y_pred_mlp))"
   ]
  },
  {
   "cell_type": "markdown",
   "id": "d0ed4637-cbab-4455-99f0-2fb1ff170d1b",
   "metadata": {},
   "source": [
    "## Comparación entre modelos"
   ]
  },
  {
   "cell_type": "markdown",
   "id": "b98d4549-157a-4377-83ed-1854bcd1d9ed",
   "metadata": {},
   "source": [
    "| Modelo                    | Accuracy | Balanced Accuracy | Precision | Recall | F1-Score | AUC-ROC | Log Loss |\n",
    "|--------------------------|----------|--------------------|-----------|--------|----------|---------|----------|\n",
    "| Regresión Logística      | 0.589    | 0.592              | 0.724     | 0.583  | 0.646    | 0.624   | 0.671    |\n",
    "| Random Forest            | 0.639    | 0.543              | 0.667     | 0.877  | 0.758    | 0.610   | 0.642    |\n",
    "| Gradient Boosting        | 0.650    | 0.544              | 0.666     | 0.917  | 0.771    | 0.634   | 0.625    |\n",
    "| Gradient Boosting (bal.) | 0.588    | 0.595              | 0.730     | 0.570  | 0.640    | 0.633   | 0.659    |\n",
    "| MLPClassifier             | 0.642    | 0.541              | 0.665     | 0.893  | 0.762    | 0.622   | 0.634    |\n",
    "| MLP + SMOTE              | 0.571    | 0.587              | 0.723     | 0.528  | 0.611    | 0.615   | 0.684    |\n"
   ]
  },
  {
   "cell_type": "markdown",
   "id": "dc786e66-d92f-4a6c-8af3-9440a6ce6e50",
   "metadata": {},
   "source": [
    "## Modelo Gradient Boosting con Optua (M1000)"
   ]
  },
  {
   "cell_type": "code",
   "execution_count": null,
   "id": "c878c4f4-ec97-42e6-a7d2-0826e83005cd",
   "metadata": {},
   "outputs": [],
   "source": [
    "#Objetivo de optimización\n",
    "def objective(trial):\n",
    "    # Hiperparámetros a optimizar\n",
    "    params = {\n",
    "        'learning_rate': trial.suggest_float('learning_rate', 0.005, 0.2, log=True),\n",
    "        'n_estimators': trial.suggest_int('n_estimators', 100, 500),\n",
    "        'max_depth': trial.suggest_int('max_depth', 3, 10),\n",
    "        'subsample': trial.suggest_float('subsample', 0.5, 1.0),\n",
    "    }\n",
    "\n",
    "    # Validación cruzada\n",
    "    kf = StratifiedKFold(n_splits=5, shuffle=True, random_state=42)\n",
    "    aucs = []\n",
    "\n",
    "    for train_idx, test_idx in kf.split(X, y):\n",
    "        X_train, X_test = X.iloc[train_idx], X.iloc[test_idx]\n",
    "        y_train, y_test = y.iloc[train_idx], y.iloc[test_idx]\n",
    "        weights = compute_sample_weight(class_weight='balanced', y=y_train)\n",
    "\n",
    "        model = GradientBoostingClassifier(\n",
    "            **params,\n",
    "            random_state=42\n",
    "        )\n",
    "\n",
    "        model.fit(X_train, y_train, sample_weight=weights)\n",
    "        y_proba = model.predict_proba(X_test)[:, 1]\n",
    "        auc = roc_auc_score(y_test, y_proba)\n",
    "        aucs.append(auc)\n",
    "\n",
    "    return np.mean(aucs)\n",
    "\n",
    "# Crear y ejecutar estudio\n",
    "study = optuna.create_study(direction='maximize', study_name='GB_AUC_Optimization')\n",
    "study.optimize(objective, n_trials=100, n_jobs=1)  # subir n_trials para mejor resultado\n",
    "\n",
    "# Mostrar mejor resultado\n",
    "print(\" Mejor AUC-ROC:\", round(study.best_value, 4))\n",
    "print(\" Mejores hiperparámetros encontrados:\")\n",
    "print(study.best_params)"
   ]
  },
  {
   "cell_type": "markdown",
   "id": "c0fbefed-7364-40f1-9d86-2756afd13b05",
   "metadata": {},
   "source": [
    "Mejor AUC-ROC: 0.6496\n",
    " Mejores hiperparámetros encontrados:\n",
    "{'learning_rate': 0.011215234584834815, 'n_estimators': 392, 'max_depth': 4, 'subsample': 0.7922129095414916}"
   ]
  },
  {
   "cell_type": "code",
   "execution_count": null,
   "id": "b8982bf5-3baa-4580-9af4-a67cf040c93d",
   "metadata": {},
   "outputs": [],
   "source": [
    "# Inicializar\n",
    "kf = StratifiedKFold(n_splits=5, shuffle=True, random_state=42)\n",
    "y_proba = np.zeros(len(y))\n",
    "y_pred = np.zeros(len(y))\n",
    "\n",
    "# Validación cruzada manual con los mejores hiperparámetros encontrados\n",
    "for train_idx, test_idx in kf.split(X, y):\n",
    "    X_train, X_test = X.iloc[train_idx], X.iloc[test_idx]\n",
    "    y_train, y_test = y.iloc[train_idx], y.iloc[test_idx]\n",
    "    w = compute_sample_weight(class_weight='balanced', y=y_train)\n",
    "\n",
    "    model = GradientBoostingClassifier(\n",
    "        learning_rate=0.011215234584834815,\n",
    "        n_estimators=392,\n",
    "        max_depth=4,\n",
    "        subsample=0.7922129095414916,\n",
    "        random_state=42\n",
    "    )\n",
    "\n",
    "    model.fit(X_train, y_train, sample_weight=w)\n",
    "    y_proba[test_idx] = model.predict_proba(X_test)[:, 1]\n",
    "    y_pred[test_idx] = model.predict(X_test)\n",
    "\n",
    "# Evaluación\n",
    "y_pred = y_pred.astype(int)\n",
    "\n",
    "print(\"MÉTRICAS DEL MODELO FINAL (Optuna):\")\n",
    "print(\"Accuracy:\", round(accuracy_score(y, y_pred), 3))\n",
    "print(\"Balanced Accuracy:\", round(balanced_accuracy_score(y, y_pred), 3))\n",
    "print(\"Precision:\", round(precision_score(y, y_pred), 3))\n",
    "print(\"Recall:\", round(recall_score(y, y_pred), 3))\n",
    "print(\"F1-Score:\", round(f1_score(y, y_pred), 3))\n",
    "print(\"AUC-ROC:\", round(roc_auc_score(y, y_proba), 3))\n",
    "print(\"Log Loss:\", round(log_loss(y, y_proba), 3))\n",
    "print(\"\\nMatriz de Confusión:\\n\", confusion_matrix(y, y_pred))\n",
    "print(\"\\nClassification Report:\\n\", classification_report(y, y_pred))"
   ]
  },
  {
   "cell_type": "markdown",
   "id": "788466c3-0733-4852-94e3-82e693c6c9e8",
   "metadata": {},
   "source": [
    "| Métrica              | Gradient Boosting (Sin optimizar) | Gradient Boosting (Optuna) |\n",
    "|----------------------|------------------------------------|-----------------------------|\n",
    "| **Accuracy**         | 0.650                              | 0.594                       |\n",
    "| **Balanced Accuracy**| 0.544                              | 0.606                       |\n",
    "| **Precision**        | 0.666                              | 0.743                       |\n",
    "| **Recall**           | 0.917                              | 0.563                       |\n",
    "| **F1-Score**         | 0.771                              | 0.641                       |\n",
    "| **AUC-ROC**          | 0.634                              | **0.649**                   |\n",
    "| **Log Loss**         | 0.625                              | 0.654                       |\n",
    "\n",
    "|                       | Matriz de Confusión                |\n",
    "|-----------------------|-----------------------------------|\n",
    "| **Sin optimizar**     | [[ 856, 4165], [ 755, 8297]]       |\n",
    "| **Optuna optimizado** | [[3256, 1765], [3953, 5099]]       |\n",
    "\n",
    "|                       | Conclusión                                              |\n",
    "|-----------------------|----------------------------------------------------------------|\n",
    "| **Sin optimizar**     | Muy alto recall, pero modelo sesgado hacia victorias del favorito. |\n",
    "| **Optuna optimizado** | Menor recall pero mejor AUC y balanced accuracy; predicción más equilibrada. |\n"
   ]
  },
  {
   "cell_type": "markdown",
   "id": "a060977c-e9ba-45a3-8d8c-939604c68573",
   "metadata": {},
   "source": [
    "## MLPClassifier Optua (M1000)"
   ]
  },
  {
   "cell_type": "code",
   "execution_count": null,
   "id": "f98b5fa5-4066-45e8-9062-0faf947ccc42",
   "metadata": {},
   "outputs": [],
   "source": [
    "# Mostrar progreso en consola\n",
    "#optuna.logging.set_verbosity(optuna.logging.INFO)\n",
    "\n",
    "# Objetivo de optimización\n",
    "def objective(trial):\n",
    "    params = {\n",
    "        'hidden_layer_sizes': trial.suggest_categorical('hidden_layer_sizes', [(50,), (100,), (50, 50), (100, 50), (100, 100)]),\n",
    "        'alpha': trial.suggest_float('alpha', 1e-5, 1e-2, log=True),\n",
    "        'learning_rate_init': trial.suggest_float('learning_rate_init', 0.0005, 0.1, log=True),\n",
    "        'solver': trial.suggest_categorical('solver', ['adam', 'sgd']),\n",
    "        'activation': trial.suggest_categorical('activation', ['relu', 'tanh'])\n",
    "    }\n",
    "\n",
    "    aucs = []\n",
    "    kf = StratifiedKFold(n_splits=5, shuffle=True, random_state=42)\n",
    "\n",
    "    for train_idx, test_idx in kf.split(X, y):\n",
    "        X_train, X_test = X.iloc[train_idx], X.iloc[test_idx]\n",
    "        y_train, y_test = y.iloc[train_idx], y.iloc[test_idx]\n",
    "\n",
    "        model = MLPClassifier(\n",
    "            **params,\n",
    "            max_iter=300,\n",
    "            random_state=42\n",
    "        )\n",
    "\n",
    "        model.fit(X_train, y_train)\n",
    "        y_proba = model.predict_proba(X_test)[:, 1]\n",
    "        auc = roc_auc_score(y_test, y_proba)\n",
    "        aucs.append(auc)\n",
    "\n",
    "    return np.mean(aucs)\n",
    "\n",
    "# Crear estudio y optimizar\n",
    "study = optuna.create_study(direction='maximize', study_name='MLP_AUC_Optimization')\n",
    "study.optimize(objective, n_trials=150, n_jobs=1)  \n",
    "\n",
    "# Mostrar mejores resultados\n",
    "print(\"Mejor AUC-ROC:\", round(study.best_value, 4))\n",
    "print(\"Mejores hiperparámetros encontrados:\")\n",
    "print(study.best_params)\n"
   ]
  },
  {
   "cell_type": "code",
   "execution_count": null,
   "id": "f5a8ecd9-df0c-4b70-b632-003c03c43bc9",
   "metadata": {},
   "outputs": [],
   "source": [
    "Mejor AUC-ROC: 0.638\n",
    "Mejores hiperparámetros encontrados:\n",
    "{'hidden_layer_sizes': (50,), 'alpha': 0.002854303279912305, 'learning_rate_init': 0.003089711339816946, 'solver': 'sgd', 'activation': 'relu'}"
   ]
  },
  {
   "cell_type": "code",
   "execution_count": null,
   "id": "18cf59f0-eaea-452c-a60a-45912c6f2d09",
   "metadata": {},
   "outputs": [],
   "source": [
    "# 1. Modelo con los mejores hiperparámetros encontrados por Optuna\n",
    "best_mlp = MLPClassifier(\n",
    "    hidden_layer_sizes=(50,),\n",
    "    alpha=0.002854303279912305,\n",
    "    learning_rate_init=0.003089711339816946,\n",
    "    solver='sgd',\n",
    "    activation='relu',\n",
    "    max_iter=300,\n",
    "    random_state=42\n",
    ")\n",
    "\n",
    "# 2. Validación cruzada (probabilidades)\n",
    "y_proba = cross_val_predict(best_mlp, X, y, cv=5, method='predict_proba')\n",
    "y_pred = (y_proba[:, 1] >= 0.5).astype(int)\n",
    "\n",
    "# 3. Métricas\n",
    "print(\"MÉTRICAS DEL MLP OPTIMIZADO (Optuna actualizado):\")\n",
    "print(\"Accuracy:\", round(accuracy_score(y, y_pred), 3))\n",
    "print(\"Balanced Accuracy:\", round(balanced_accuracy_score(y, y_pred), 3))\n",
    "print(\"Precision:\", round(precision_score(y, y_pred), 3))\n",
    "print(\"Recall:\", round(recall_score(y, y_pred), 3))\n",
    "print(\"F1-Score:\", round(f1_score(y, y_pred), 3))\n",
    "print(\"AUC-ROC:\", round(roc_auc_score(y, y_proba[:, 1]), 3))\n",
    "print(\"Log Loss:\", round(log_loss(y, y_proba[:, 1]), 3))\n",
    "\n",
    "# 4. Matriz de confusión\n",
    "print(\"\\nMatriz de Confusión:\\n\", confusion_matrix(y, y_pred))\n",
    "print(\"\\nClassification Report:\\n\", classification_report(y, y_pred))"
   ]
  },
  {
   "cell_type": "markdown",
   "id": "7ed53cb1-e307-4659-9cc3-17681ceb73da",
   "metadata": {},
   "source": [
    "| Métrica              | MLP (Sin optimizar)               | MLP (Optuna)               |\n",
    "|----------------------|-----------------------------------|----------------------------|\n",
    "| **Accuracy**         | 0.642                             | 0.647                      |\n",
    "| **Balanced Accuracy**| 0.541                             | 0.535                      |\n",
    "| **Precision**        | 0.665                             | 0.661                      |\n",
    "| **Recall**           | 0.893                             | 0.927                      |\n",
    "| **F1-Score**         | 0.762                             | 0.772                      |\n",
    "| **AUC-ROC**          | 0.622                             | **0.635**                  |\n",
    "| **Log Loss**         | 0.634                             | 0.625                      |\n",
    "\n",
    "|                       | Matriz de Confusión               |\n",
    "|-----------------------|----------------------------------|\n",
    "| **Sin optimizar**     | [[ 947, 4074], [ 969, 8083]]      |\n",
    "| **Optuna optimizado** | [[ 716, 4305], [ 659, 8393]]      |\n",
    "\n",
    "|                       | Conclusión                                                  |\n",
    "|-----------------------|-------------------------------------------------------------|\n",
    "| **Sin optimizar**     | Buen F1, pero bajo rendimiento en derrotas del favorito.    |\n",
    "| **Optuna optimizado** | AUC y recall mejorados; más fiable prediciendo victorias.  |\n"
   ]
  },
  {
   "cell_type": "markdown",
   "id": "c4be55c8-3170-4942-810c-9e4de0dcacdf",
   "metadata": {},
   "source": [
    "# Comparación mejores modelos GrandSlam y ATP Master1000"
   ]
  },
  {
   "cell_type": "markdown",
   "id": "690e8f5a-429f-4688-85ab-ba9cf2e381ad",
   "metadata": {},
   "source": [
    "| Métrica               | Grand Slams (GB Optuna) | Masters 1000 (GB Optuna) |\n",
    "|-----------------------|-------------------------|---------------------------|\n",
    "| **Accuracy**          | 0.643                   | 0.594                     |\n",
    "| **Balanced Accuracy** | **0.658**               | 0.606                     |\n",
    "| **Precision**         | **0.835**               | 0.743                     |\n",
    "| **Recall**            | 0.623                   | 0.563                     |\n",
    "| **F1-Score**          | 0.714                   | 0.641                     |\n",
    "| **AUC-ROC**           | **0.713**               | 0.649                     |\n",
    "| **Log Loss**          | 0.613                   | 0.654                     |\n",
    "\n",
    "|                           | Matriz de Confusión              |\n",
    "|---------------------------|----------------------------------|\n",
    "| **Grand Slams (GB Optuna)** | [[2546, 1125], [3453, 5703]]     |\n",
    "| **Masters 1000 (GB Optuna)**| [[3256, 1765], [3953, 5099]]     |\n",
    "\n",
    "### Conclusión Final\n",
    "\n",
    "- El modelo optimizado con **Gradient Boosting + Optuna** para **Grand Slams** logra **el mejor AUC-ROC (0.713)** y también destaca en **Balanced Accuracy y Precision**, lo que indica que es más capaz de distinguir entre clases y equilibrar el sesgo.\n",
    "- El modelo equivalente para **Masters 1000** también mejora respecto al no optimizado, pero su rendimiento sigue siendo inferior en AUC-ROC, F1 y Balanced Accuracy.\n",
    "- **Conclusión**: Aunque los **Masters 1000** tienen más datos, los **Grand Slams resultan más predecibles** desde el punto de vista del modelo, especialmente en cuanto a su capacidad de clasificación general medida por AUC-ROC.\n"
   ]
  }
 ],
 "metadata": {
  "kernelspec": {
   "display_name": "Python 3 (ipykernel)",
   "language": "python",
   "name": "python3"
  },
  "language_info": {
   "codemirror_mode": {
    "name": "ipython",
    "version": 3
   },
   "file_extension": ".py",
   "mimetype": "text/x-python",
   "name": "python",
   "nbconvert_exporter": "python",
   "pygments_lexer": "ipython3",
   "version": "3.11.11"
  }
 },
 "nbformat": 4,
 "nbformat_minor": 5
}
