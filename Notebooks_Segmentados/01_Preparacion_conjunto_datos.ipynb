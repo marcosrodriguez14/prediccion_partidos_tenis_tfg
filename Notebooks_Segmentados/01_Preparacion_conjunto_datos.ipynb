{
 "cells": [
  {
   "cell_type": "markdown",
   "id": "8aee858c-f072-4175-98dc-79e845da5f8e",
   "metadata": {},
   "source": [
    "# Preparación Dataset"
   ]
  },
  {
   "cell_type": "code",
   "execution_count": null,
   "id": "3ef2e9e9-e04d-4942-81fe-f287e6fe9e3b",
   "metadata": {},
   "outputs": [],
   "source": [
    "import os\n",
    "import pandas as pd\n",
    "from difflib import get_close_matches\n",
    "import pprint\n",
    "import numpy as np\n",
    "from sklearn.preprocessing import StandardScaler\n",
    "from sklearn.model_selection import train_test_split\n",
    "from sklearn.linear_model import LogisticRegression\n",
    "from sklearn.metrics import balanced_accuracy_score, classification_report\n",
    "from sklearn.model_selection import cross_val_predict\n",
    "from sklearn.metrics import (\n",
    "    accuracy_score, balanced_accuracy_score, confusion_matrix,\n",
    "    precision_score, recall_score, f1_score, roc_auc_score, log_loss,\n",
    "    classification_report\n",
    ")\n",
    "from sklearn.ensemble import RandomForestClassifier\n",
    "from sklearn.ensemble import GradientBoostingClassifier\n",
    "from sklearn.ensemble import HistGradientBoostingClassifier\n",
    "from sklearn.neural_network import MLPClassifier\n",
    "from imblearn.over_sampling import SMOTE\n",
    "\n",
    "\n",
    "\n",
    "from sklearn.model_selection import RandomizedSearchCV, cross_val_predict\n",
    "from sklearn.metrics import *\n",
    "import optuna\n",
    "from optuna.samplers import TPESampler\n",
    "from sklearn.utils.class_weight import compute_sample_weight\n",
    "from sklearn.model_selection import StratifiedKFold\n",
    "\n",
    "import matplotlib.pyplot as plt\n",
    "\n",
    "import lime\n",
    "import lime.lime_tabular\n",
    "import shap\n",
    "\n"
   ]
  },
  {
   "cell_type": "markdown",
   "id": "ecf2924e-d89d-4e05-958e-93b936555ab8",
   "metadata": {},
   "source": [
    "### Renombrar torneos\n",
    "Inserta el directorio en el cual se encuentran todos los datasets y los renombra como \"nombre_torneo_año\"\n"
   ]
  },
  {
   "cell_type": "code",
   "execution_count": null,
   "id": "71e99f1e-ff0e-40bf-9130-3d981e5f2e6a",
   "metadata": {},
   "outputs": [],
   "source": [
    "# Ruta del directorio donde están los archivos\n",
    "#ruta donde se encuentran los csvs: \n",
    "directorio = './Toronto_M1000'\n",
    "#Nombre con el que se renombraran los csv formato nombre_torneo_año\n",
    "nombre_torneo = 'Toronto' "
   ]
  },
  {
   "cell_type": "code",
   "execution_count": null,
   "id": "54374d78-7a4d-41a6-a870-422a35dc2d33",
   "metadata": {},
   "outputs": [],
   "source": [
    "# Listar los archivos en el directorio\n",
    "archivos = os.listdir(directorio)\n",
    "\n",
    "# Renombrar los archivos\n",
    "for i, archivo in enumerate(archivos):\n",
    "    # Verificar que el archivo sea un archivo CSV\n",
    "    if archivo.endswith('.csv'):\n",
    "        print(f\"Procesando archivo: {archivo}\") \n",
    "        try:\n",
    "            # Leer el archivo CSV con pandas\n",
    "            df = pd.read_csv(os.path.join(directorio, archivo))\n",
    "            \n",
    "            # Verificar que la columna 'Date' exista en el archivo\n",
    "            if 'Date' in df.columns:\n",
    "                print(f\"Columna 'Date' encontrada en {archivo}\")  \n",
    "                \n",
    "                # Convertir la columna 'Date' a tipo datetime\n",
    "                # Este paso maneja tanto fechas con 2 como 4 dígitos en el año (DD/MM/YY y DD/MM/YYYY)\n",
    "                df['Date'] = pd.to_datetime(df['Date'], errors='coerce')\n",
    "                \n",
    "                # Verificar si la conversión fue exitosa\n",
    "                if df['Date'].isnull().any():\n",
    "                    print(f\"Advertencia: Algunas fechas no se pudieron convertir en {archivo}\")  \n",
    "                \n",
    "                # Extraer el año del primer valor en la columna 'Date' (si es posible)\n",
    "                anio = int(df['Date'].dt.year.iloc[0])  # Convertimos el año a entero\n",
    "                \n",
    "                print(f\"Año extraído para {archivo}: {anio}\")  \n",
    "\n",
    "                # Obtenemos la extensión del archivo\n",
    "                nombre, extension = os.path.splitext(archivo)\n",
    "                \n",
    "                # Generamos el nuevo nombre con el año extraído\n",
    "                nuevo_nombre = f\"{nombre_torneo}_{anio}{extension}\"\n",
    "                \n",
    "                # Verificar si el nuevo nombre es distinto al original\n",
    "                if nuevo_nombre != archivo:\n",
    "                    # Renombramos el archivo\n",
    "                    os.rename(os.path.join(directorio, archivo), os.path.join(directorio, nuevo_nombre))\n",
    "                    print(f\"Renombrado {archivo} a {nuevo_nombre}\")  \n",
    "                else:\n",
    "                    print(f\"El archivo {archivo} ya tiene el nombre correcto.\") \n",
    "            else:\n",
    "                print(f\"No se encontró la columna 'Date' en {archivo}\")  \n",
    "        except Exception as e:\n",
    "            print(f\"Error al procesar el archivo {archivo}: {e}\")  \n",
    "\n",
    "print(\"Archivos procesados correctamente.\")"
   ]
  },
  {
   "cell_type": "markdown",
   "id": "32d9b887-a4c9-4b38-b5c0-dfd3042ed1a0",
   "metadata": {},
   "source": [
    "### Unir todos los datasets en uno\n",
    "Genera el dataset completo con la unión de todos los toreneos de todos los años con el nombre \"nombre_torneo_completo\""
   ]
  },
  {
   "cell_type": "code",
   "execution_count": null,
   "id": "5f1331e4-f6f6-4089-8e12-fbf6b4916406",
   "metadata": {},
   "outputs": [],
   "source": [
    "\n",
    "# Obtener la lista de archivos CSV en el directorio\n",
    "archivos = [archivo for archivo in os.listdir(directorio) if archivo.endswith('.csv')]\n",
    "\n",
    "# Crear una lista para almacenar los DataFrames de cada archivo CSV\n",
    "dfs = []\n",
    "\n",
    "# Leer cada archivo CSV y agregarlo a la lista\n",
    "for archivo in archivos:\n",
    "    df = pd.read_csv(os.path.join(directorio, archivo))\n",
    "    dfs.append(df)\n",
    "\n",
    "# Concatenar todos los DataFrames en uno solo\n",
    "df_completo = pd.concat(dfs, ignore_index=True)\n",
    "\n",
    "# Crear el nombre del archivo de salida\n",
    "nombre_archivo_salida = f\"{nombre_torneo}_completo.csv\"\n",
    "\n",
    "# Guardar el DataFrame combinado en el nuevo archivo CSV\n",
    "df_completo.to_csv(os.path.join(ruta_salida, nombre_archivo_salida), index=False, sep=';', decimal=',')\n",
    "\n",
    "print(f\"Todos los archivos CSV han sido combinados exitosamente en '{nombre_archivo_salida}'.\")\n"
   ]
  },
  {
   "cell_type": "markdown",
   "id": "2fd3d4d6-0952-458d-8dcb-3fef064a988b",
   "metadata": {},
   "source": [
    "### Normalizar fechas formato YYYY/MM/DD"
   ]
  },
  {
   "cell_type": "code",
   "execution_count": null,
   "id": "6b1f2946-b190-435d-9e64-9fa9e85dc653",
   "metadata": {},
   "outputs": [],
   "source": [
    "# Ruta del archivo CSV combinado\n",
    "ruta_fichero = './Toronto_M1000'\n",
    "nombre_archivo_entrada = 'Toronto_completo.csv'\n",
    "# Ruta del archivo CSV de salida\n",
    "nombre_archivo_salida= 'Toronto_completo_normalizado.csv'\n",
    "ruta_salida = './Masters1000'"
   ]
  },
  {
   "cell_type": "code",
   "execution_count": null,
   "id": "4f8594b9-d8c2-4b97-af51-1ec2b8af3849",
   "metadata": {},
   "outputs": [],
   "source": [
    "# Leer el archivo CSV en un DataFrame\n",
    "df_completo = pd.read_csv(os.path.join(ruta_fichero, nombre_archivo_entrada),sep=';' )\n",
    "\n",
    "# Función para convertir fechas con múltiples formatos\n",
    "def convertir_fecha(fecha):\n",
    "    formatos = ['%d/%m/%Y', '%d/%m/%y', '%Y-%m-%d']  # Formatos posibles\n",
    "    for formato in formatos:\n",
    "        try:\n",
    "            return pd.to_datetime(fecha, format=formato)\n",
    "        except ValueError:\n",
    "            continue\n",
    "    return pd.NaT  # Si no se puede convertir, devuelve NaT\n",
    "\n",
    "# Aplicamos la función a toda la columna 'Date'\n",
    "df_completo['Date'] = df_completo['Date'].astype(str).apply(convertir_fecha)\n",
    "\n",
    "# Eliminamos filas donde la fecha sigue siendo NaT\n",
    "df_completo = df_completo.dropna(subset=['Date'])\n",
    "\n",
    "# Convertimos todas las fechas al formato `DD/MM/YYYY` \n",
    "df_completo['Date'] = df_completo['Date'].dt.strftime('%d/%m/%Y')\n",
    "\n",
    "# Guardamos el archivo corregido\n",
    "df_completo.to_csv(os.path.join(ruta_salida, nombre_archivo_salida), index=False, sep=';', decimal=',')\n",
    "\n",
    "print(f\"Archivo CSV con fechas normalizadas guardado en: {os.path.join(ruta_salida, nombre_archivo_salida)}\")"
   ]
  },
  {
   "cell_type": "markdown",
   "id": "b8ee81f6-b8ff-44e1-9568-6a182a365993",
   "metadata": {},
   "source": [
    "### Unir todos los Torneos\n",
    "Hay que tener en cuenta que los archivos por defecto tiene ',' pero una vez que lo hemos transformado los hemos guardado con ';' por lo que debemos leerlo de esta forma si no nos dara error y no leera correctamete las columnas"
   ]
  },
  {
   "cell_type": "code",
   "execution_count": null,
   "id": "96c408fd-88d7-4dd5-b1d6-1697489b5374",
   "metadata": {},
   "outputs": [],
   "source": [
    "# Ruta de entrada: carpeta donde están los CSV\n",
    "directorio = './Modelo_Completo'  \n",
    "# Ruta de salida: carpeta donde se guardará el CSV final\n",
    "ruta_salida = './Modelo_Completo'  "
   ]
  },
  {
   "cell_type": "code",
   "execution_count": null,
   "id": "2b006d35-c6f5-4a6f-9b89-7315b9ee3124",
   "metadata": {},
   "outputs": [],
   "source": [
    "# Obtener todos los archivos .csv del directorio\n",
    "archivos = [archivo for archivo in os.listdir(directorio) if archivo.endswith('.csv')]\n",
    "\n",
    "# Lista para almacenar los DataFrames\n",
    "dfs = []\n",
    "\n",
    "# Leer y combinar todos los archivos\n",
    "for archivo in archivos:\n",
    "    ruta_completa = os.path.join(directorio, archivo)\n",
    "    print(f\"Leyendo: {archivo}\")\n",
    "    df = pd.read_csv(ruta_completa, sep=';')  # Usa ; como separador\n",
    "    dfs.append(df)\n",
    "\n",
    "# Unir todos los DataFrames\n",
    "df_completo = pd.concat(dfs, ignore_index=True)\n",
    "\n",
    "# Nombre del archivo combinado\n",
    "nombre_archivo_salida = \"Masters1000_completos_normalizados.csv\"\n",
    "ruta_final = os.path.join(ruta_salida, nombre_archivo_salida)\n",
    "\n",
    "# Guardar el DataFrame combinado\n",
    "df_completo.to_csv(ruta_final, index=False, sep=';', decimal=',')\n",
    "\n",
    "print(f\" Archivos combinados exitosamente en: {ruta_final}\")\n"
   ]
  },
  {
   "cell_type": "markdown",
   "id": "5959ddfa-f529-4395-b7b7-16b58de380f7",
   "metadata": {},
   "source": [
    "### Nombres inconsistentes\n",
    "Al unir varios datasets el nombre de los jugadores puede que no coincidan y sean parecidos pero no iguales con este paso resolveremos esos casos"
   ]
  },
  {
   "cell_type": "code",
   "execution_count": null,
   "id": "5798915e-4c59-4964-8275-caf5070489a2",
   "metadata": {},
   "outputs": [],
   "source": [
    "# Obtener lista de nombres únicos de ganadores y perdedores\n",
    "nombres_winners = df_completo['Winner'].dropna().unique()\n",
    "nombres_losers = df_completo['Loser'].dropna().unique()\n",
    "\n",
    "# Unificar todas las listas de nombres y convertirlos a minúsculas para mejor comparación\n",
    "todos_nombres = {nombre.strip().lower() for nombre in nombres_winners}.union(\n",
    "                {nombre.strip().lower() for nombre in nombres_losers})\n",
    "\n",
    "# Diccionario para almacenar posibles inconsistencias\n",
    "posibles_errores = {}\n",
    "\n",
    "for nombre in todos_nombres:\n",
    "    similares = get_close_matches(nombre, todos_nombres, n=5, cutoff=0.85)  # Ajustar el nivel de similitud\n",
    "    similares = [s for s in similares if s != nombre]  # Eliminar coincidencias consigo mismo\n",
    "    if similares:\n",
    "        posibles_errores[nombre] = similares\n",
    "\n",
    "# Mostrar posibles errores con mejor formato\n",
    "if posibles_errores:\n",
    "    print(\"\\nPosibles nombres inconsistentes encontrados:\\n\")\n",
    "    pprint.pprint(posibles_errores, width=100)\n",
    "else:\n",
    "    print(\"\\nNo se encontraron inconsistencias en los nombres.\")\n"
   ]
  },
  {
   "cell_type": "markdown",
   "id": "ccf39de3-1d5a-4598-855f-413cad5efe0e",
   "metadata": {},
   "source": [
    "### Corrección de nombres: Paso Manual\n"
   ]
  },
  {
   "cell_type": "code",
   "execution_count": null,
   "id": "a7edd1e6-643c-4338-8352-d7e8234469e5",
   "metadata": {},
   "outputs": [],
   "source": [
    "# PASO MANUAL: Crear diccionario de correcciones según lo que elijas\n",
    "#nombre incorrecto : nombre correcto\n",
    "correcciones_manual = {\n",
    "    \"bogomolov jr. a.\": \"bogomolov jr.a.\",\n",
    "    \"carreno busta p.\": \"carreno-busta p.\",\n",
    "    \"del potro j. m.\": \"del potro j.m.\",\n",
    "    \"dutra da silva r.\": \"dutra silva r.\",\n",
    "    \"galan d.\": \"galan d.e.\",\n",
    "    \"guzman j.\": \"guzman j.p.\",\n",
    "    \"herbert p.h\": \"herbert p.h.\",\n",
    "    \"kim k\": \"kim k.\",\n",
    "    \"lisnard j.r..\": \"lisnard j.r.\",\n",
    "    \"mathieu p.\": \"mathieu p.h.\",\n",
    "    \"munoz de la nava d.\": \"munoz-de la nava d.\",\n",
    "    \"o connell c.\": \"o'connell c.\",\n",
    "    \"tseng c. h.\": \"tseng c.h.\",\n",
    "    \"varillas j. p.\": \"varillas j.p.\",\n",
    "    \"lisnard j.\":\"lisnard j.r.\",\n",
    "    \"zhang ze\":\"zhang ze.\",\n",
    "    \"chela j.i\":\"chela j.\",\n",
    "    \"chela j.i.\":\"chela j.\",\n",
    "    \"ferrero j.c.\":\"ferrero j.\",\n",
    "    \"kuznetsov al.\":\"kuznetsov a.\",\n",
    "    \"kuznetsov an.\":\"kuznetsov a.\",\n",
    "    \"youzhny a.\":\"youzhny m.\" ,\n",
    "    \"bogomolov jr.a.\":\"bogomolov a.\" \n",
    "    \n",
    "}\n",
    "\n",
    "# Aplicar correcciones en el DataFrame\n",
    "df_completo['Winner'] = df_completo['Winner'].str.strip().str.lower().replace(correcciones_manual)\n",
    "df_completo['Loser'] = df_completo['Loser'].str.strip().str.lower().replace(correcciones_manual)\n",
    "\n",
    "print(\"\\nNombres corregidos manualmente aplicados en el DataFrame.\")"
   ]
  },
  {
   "cell_type": "markdown",
   "id": "8b1d5d4f-f5c6-4b4e-be51-5ece9871dd2b",
   "metadata": {},
   "source": [
    "Nombres corregidos manualmente aplicados en el DataFrame.\n"
   ]
  },
  {
   "cell_type": "code",
   "execution_count": null,
   "id": "21a31552-16a8-449a-8e1e-8ea44eaa28e6",
   "metadata": {},
   "outputs": [],
   "source": [
    "# Definir la ruta base y el nombre del archivo de salida\n",
    "ruta_base = r'./Modelo_Completo/nombres_corregidos'\n",
    "nombre_archivo = 'GrandSlams_Masters1000_NombresCorregidos.csv'"
   ]
  },
  {
   "cell_type": "code",
   "execution_count": null,
   "id": "9cc0d0af-2764-46a7-a396-c171031211b7",
   "metadata": {},
   "outputs": [],
   "source": [
    "\n",
    "# Construir la ruta completa\n",
    "ruta_salida = os.path.join(ruta_base, nombre_archivo)\n",
    "# Guardar el DataFrame en un archivo CSV\n",
    "df_completo.to_csv(ruta_salida,  index=False, sep=';', decimal=',')"
   ]
  },
  {
   "cell_type": "markdown",
   "id": "db917376-5da0-42d1-925c-3440fe41540c",
   "metadata": {},
   "source": [
    "### Cargar dataframe para añadir columnas"
   ]
  },
  {
   "cell_type": "code",
   "execution_count": null,
   "id": "bb40eddf-e05d-4f2a-ae6b-691175b082d9",
   "metadata": {},
   "outputs": [],
   "source": [
    "# Ruta base del archivo\n",
    "ruta_base = r\"./Modelo_Completo/columnas_añadidas\"\n",
    "# Nombre del archivo\n",
    "nombre_archivo = \"escaladofinal.csv\""
   ]
  },
  {
   "cell_type": "code",
   "execution_count": null,
   "id": "8063cae5-8594-4d43-9c2d-79002bbf3328",
   "metadata": {},
   "outputs": [],
   "source": [
    "ruta_completa = os.path.join(ruta_base, nombre_archivo)\n",
    "\n",
    "# Leer el CSV correctamente\n",
    "df = pd.read_csv(\n",
    "    ruta_completa,\n",
    "    delimiter=\";\",   # separador de columnas\n",
    "    decimal=\",\"      # separador decimal \n",
    ")\n",
    "\n",
    "# Convertir fecha\n",
    "df[\"Date\"] = pd.to_datetime(df[\"Date\"], format=\"%d/%m/%Y\", errors=\"coerce\")\n",
    "\n",
    "# Ordenar por fecha\n",
    "df = df.sort_values(by=\"Date\")\n",
    "\n",
    "# Mostrar resumen\n",
    "df.info()\n"
   ]
  },
  {
   "cell_type": "markdown",
   "id": "8aa4b9a3-0a40-4700-8876-5d51e792a6fd",
   "metadata": {},
   "source": [
    "## Correccion Wrank"
   ]
  },
  {
   "cell_type": "code",
   "execution_count": null,
   "id": "863e44a2-2013-4440-9d7b-ee037b47e37c",
   "metadata": {},
   "outputs": [],
   "source": [
    "for col in [\"WRank\", \"LRank\"]:\n",
    "    df[col] = (\n",
    "        df[col]\n",
    "          .astype(str)           # asegurar que es texto\n",
    "          .str.strip()           # quitar espacios\n",
    "          .str.split(\",\").str[0] # tomar lo que va antes de la coma\n",
    "          .replace({\"UNR\": None, \"NR\": None, \"\": None})\n",
    "          .pipe(pd.to_numeric, errors=\"coerce\")\n",
    "    )\n"
   ]
  },
  {
   "cell_type": "markdown",
   "id": "6d40e4bf-43d3-4512-80ab-cfb8cbf3291b",
   "metadata": {},
   "source": [
    "## Añadir Varibles nuevas"
   ]
  },
  {
   "cell_type": "markdown",
   "id": "c8a08022-3f1d-47a1-a174-3f6921461923",
   "metadata": {},
   "source": [
    "## Jugador favorito y no favorito\n",
    "El objetivo es crear dos columnas una con el jugador favorito(jugador que ocupa mejor posición en el ranking) y otra con el jugador que no es favorito(ocupa peor posición en el ranking)."
   ]
  },
  {
   "cell_type": "code",
   "execution_count": null,
   "id": "a251c6d8-da4c-4ea5-a789-48161952762b",
   "metadata": {},
   "outputs": [],
   "source": [
    "# Asegurar que los rankings sean numéricos\n",
    "df[\"WRank\"] = pd.to_numeric(df[\"WRank\"], errors=\"coerce\")\n",
    "df[\"LRank\"] = pd.to_numeric(df[\"LRank\"], errors=\"coerce\")\n",
    "\n",
    "# Inicializar listas para jugadores\n",
    "favorito = []\n",
    "no_favorito = []\n",
    "\n",
    "# Crear columnas según el ranking\n",
    "for _, row in df.iterrows():\n",
    "    w = row[\"Winner\"]\n",
    "    l = row[\"Loser\"]\n",
    "    wr = row[\"WRank\"]\n",
    "    lr = row[\"LRank\"]\n",
    "\n",
    "    if pd.isna(wr) and pd.isna(lr):\n",
    "        favorito.append(None)\n",
    "        no_favorito.append(None)\n",
    "    elif pd.isna(wr):\n",
    "        favorito.append(l)\n",
    "        no_favorito.append(w)\n",
    "    elif pd.isna(lr):\n",
    "        favorito.append(w)\n",
    "        no_favorito.append(l)\n",
    "    elif wr < lr:\n",
    "        favorito.append(w)\n",
    "        no_favorito.append(l)\n",
    "    else:\n",
    "        favorito.append(l)\n",
    "        no_favorito.append(w)\n",
    "\n",
    "# Insertar justo después de 'Best of'\n",
    "idx = df.columns.get_loc(\"Best of\")\n",
    "df.insert(idx + 1, \"Player_Favorite\", favorito)\n",
    "df.insert(idx + 2, \"Player_Not_Favorite\", no_favorito)"
   ]
  },
  {
   "cell_type": "code",
   "execution_count": null,
   "id": "3258f172-f7e3-4945-bdce-c32ede8b3c9f",
   "metadata": {},
   "outputs": [],
   "source": [
    "ruta_base = r\"./Modelo_Completo/columnas_añadidas\" \n",
    "nombre_archivo = 'jugadoresAñadidos.csv'"
   ]
  },
  {
   "cell_type": "code",
   "execution_count": null,
   "id": "0821c4c8-1f22-4120-8b06-c1b5396d16aa",
   "metadata": {},
   "outputs": [],
   "source": [
    "# Construir la ruta completa\n",
    "ruta_salida = os.path.join(ruta_base, nombre_archivo)\n",
    "\n",
    "# Guardar el DataFrame en un archivo CSV\n",
    "df.to_csv(ruta_salida, index=False, sep=';', decimal=',')"
   ]
  },
  {
   "cell_type": "markdown",
   "id": "b000f364-f32f-4b40-9452-490728d49cc7",
   "metadata": {},
   "source": [
    "## Varibale Favorite_Wins\n",
    "Indica si el jugador favorito ha ganado (1) o si ha perdido (0)"
   ]
  },
  {
   "cell_type": "code",
   "execution_count": null,
   "id": "ea1e59c9-c206-48f0-a65e-218cd3d936bb",
   "metadata": {},
   "outputs": [],
   "source": [
    "# Inicializar lista para la variable objetivo\n",
    "favorite_wins = []\n",
    "\n",
    "# Usar las columnas ya creadas\n",
    "for _, row in df.iterrows():\n",
    "    if pd.isna(row[\"Player_Favorite\"]) or pd.isna(row[\"Winner\"]):\n",
    "        favorite_wins.append(None)\n",
    "    elif row[\"Player_Favorite\"] == row[\"Winner\"]:\n",
    "        favorite_wins.append(1)\n",
    "    else:\n",
    "        favorite_wins.append(0)\n",
    "\n",
    "# Insertar la variable justo después de 'Player_Not_Favorite'\n",
    "idx = df.columns.get_loc(\"Player_Not_Favorite\")\n",
    "df.insert(idx + 1, \"Favorite_Wins\", favorite_wins)\n"
   ]
  },
  {
   "cell_type": "code",
   "execution_count": null,
   "id": "be260d57-9f0e-49de-9230-15e416b82764",
   "metadata": {},
   "outputs": [],
   "source": [
    "ruta_base = r\"./Modelo_Completo/columnas_añadidas\" \n",
    "nombre_archivo = 'favorite_wins.csv'"
   ]
  },
  {
   "cell_type": "code",
   "execution_count": null,
   "id": "8325d996-0bc4-45c1-b2a6-b2709103f693",
   "metadata": {},
   "outputs": [],
   "source": [
    "# Construir la ruta completa\n",
    "ruta_salida = os.path.join(ruta_base, nombre_archivo)\n",
    "\n",
    "# Guardar el DataFrame en un archivo CSV\n",
    "df.to_csv(ruta_salida, index=False, sep=';', decimal=',')"
   ]
  },
  {
   "cell_type": "markdown",
   "id": "6e05ace7-2038-404c-978b-101b07ad5066",
   "metadata": {},
   "source": [
    "## Rellenar columnas vacias WRank/LRank\n",
    "Para asegurarnos de que todos los jugadores tienen ranking rellenamos los jugadores que no lo tienen con un ranking muy alto"
   ]
  },
  {
   "cell_type": "code",
   "execution_count": null,
   "id": "b14c86f1-b3d1-4c33-ac72-99a2f571ffdb",
   "metadata": {},
   "outputs": [],
   "source": [
    "# Rellenar los valores nulos en 'WRank' y 'LRank' con 5000\n",
    "df['WRank'] = df['WRank'].fillna(5000)\n",
    "df['LRank'] = df['LRank'].fillna(5000)\n",
    "\n",
    "# Verificar que los valores nulos han sido rellenados\n",
    "print(df[['WRank', 'LRank']].isnull().sum())"
   ]
  },
  {
   "cell_type": "code",
   "execution_count": null,
   "id": "39dc04df-a687-42f1-b38c-7419b646173a",
   "metadata": {},
   "outputs": [],
   "source": [
    "ruta_base = r\"./Modelo_Completo/columnas_añadidas\" \n",
    "nombre_archivo = 'columnas_vacias.csv'"
   ]
  },
  {
   "cell_type": "code",
   "execution_count": null,
   "id": "2a079156-41c3-4333-b776-4a282a02d1ca",
   "metadata": {},
   "outputs": [],
   "source": [
    "# Construir la ruta completa\n",
    "ruta_salida = os.path.join(ruta_base, nombre_archivo)\n",
    "\n",
    "# Guardar el DataFrame en un archivo CSV\n",
    "df.to_csv(ruta_salida, index=False, sep=';', decimal=',')"
   ]
  },
  {
   "cell_type": "markdown",
   "id": "4b5d5918-9910-4f2f-86c1-3d2552607abc",
   "metadata": {},
   "source": [
    "## Rank_Favorite/Rank_Not_Favorite/Rank_Diff_Signed/Rank_Diff_Abs\n",
    "Rank_favorite = Representa el ranking del jugador favorito  \n",
    "Rank_Not_Favorite = Representa el ranking del jugador que no es favorito  \n",
    "Rank_Diff_Signed = Representa la diferencia con signo entre el jugador favorito y el no favorito  \n",
    "Rank_Diff_Abs = Representa la diferencia entre el jugador favorito y el no favorito en valor absoluto  "
   ]
  },
  {
   "cell_type": "code",
   "execution_count": null,
   "id": "b5a00042-12df-4537-aaea-6a210e28bb94",
   "metadata": {},
   "outputs": [],
   "source": [
    "# Asegurar tipos numéricos\n",
    "df[\"WRank\"] = pd.to_numeric(df[\"WRank\"], errors=\"coerce\")\n",
    "df[\"LRank\"] = pd.to_numeric(df[\"LRank\"], errors=\"coerce\")\n",
    "\n",
    "# Inicializar listas\n",
    "rank_fav = []\n",
    "rank_not_fav = []\n",
    "\n",
    "# Calcular rankings en base al favorito\n",
    "for _, row in df.iterrows():\n",
    "    fav = row[\"Player_Favorite\"]\n",
    "    win = row[\"Winner\"]\n",
    "    wr = row[\"WRank\"]\n",
    "    lr = row[\"LRank\"]\n",
    "\n",
    "    if pd.isna(fav):\n",
    "        rank_fav.append(None)\n",
    "        rank_not_fav.append(None)\n",
    "    elif fav == win:\n",
    "        rank_fav.append(wr)\n",
    "        rank_not_fav.append(lr)\n",
    "    else:\n",
    "        rank_fav.append(lr)\n",
    "        rank_not_fav.append(wr)\n",
    "\n",
    "# Crear columnas temporales\n",
    "df[\"Rank_Favorite\"] = rank_fav\n",
    "df[\"Rank_Not_Favorite\"] = rank_not_fav\n",
    "df[\"Rank_Diff_Signed\"] = df[\"Rank_Favorite\"] - df[\"Rank_Not_Favorite\"]\n",
    "df[\"Rank_Diff_Abs\"] = df[\"Rank_Diff_Signed\"].abs()\n",
    "\n",
    "# Reordenar: insertar después de Player_Favorite y Player_Not_Favorite\n",
    "idx = df.columns.get_loc(\"Player_Not_Favorite\")\n",
    "\n",
    "for col in [\"Rank_Favorite\", \"Rank_Not_Favorite\", \"Rank_Diff_Signed\", \"Rank_Diff_Abs\"]:\n",
    "    temp = df.pop(col)\n",
    "    idx += 1\n",
    "    df.insert(idx, col, temp)\n",
    "\n"
   ]
  },
  {
   "cell_type": "code",
   "execution_count": null,
   "id": "9ea15602-2b30-4448-a425-812a6a6b2794",
   "metadata": {},
   "outputs": [],
   "source": [
    "ruta_base = r\"./Modelo_Completo/columnas_añadidas\" \n",
    "nombre_archivo = 'ranking_favorito.csv'"
   ]
  },
  {
   "cell_type": "code",
   "execution_count": null,
   "id": "a8c9233d-af59-4fdb-89a5-561503f5d446",
   "metadata": {},
   "outputs": [],
   "source": [
    "# Construir la ruta completa\n",
    "ruta_salida = os.path.join(ruta_base, nombre_archivo)\n",
    "\n",
    "# Guardar el DataFrame en un archivo CSV\n",
    "df.to_csv(ruta_salida, index=False, sep=';', decimal=',')"
   ]
  },
  {
   "cell_type": "markdown",
   "id": "0be8c715-bd57-448f-8c99-1d6f447a53d0",
   "metadata": {},
   "source": [
    "## WinStreak_Favorite / WinStreak_Not_Favorite\n",
    "WinStreak_Favorite: Representa cuántos partidos consecutivos ha ganado el jugador favorito antes del partido actual.  \n",
    "WinStreak_Not_Favorite: Representa cuántos partidos consecutivos ha ganado el jugador no favorito antes del partido actual.\n",
    "\n",
    "Recuerda cargar el fichero mas reciente"
   ]
  },
  {
   "cell_type": "code",
   "execution_count": null,
   "id": "e9be790e-a55e-4f94-a3e5-e09818fd45ef",
   "metadata": {},
   "outputs": [],
   "source": [
    "# Asegurarse de que la columna 'Date' está en formato datetime y ordenada\n",
    "df['Date'] = pd.to_datetime(df['Date'])\n",
    "df = df.sort_values('Date')\n",
    "\n",
    "# Diccionario para guardar racha de cada jugador\n",
    "win_streaks = {}\n",
    "\n",
    "# Nuevas listas para almacenar la racha antes del partido\n",
    "streak_fav = []\n",
    "streak_not_fav = []\n",
    "\n",
    "# Recorrer el DataFrame\n",
    "for _, row in df.iterrows():\n",
    "    fav = row['Player_Favorite']\n",
    "    no_fav = row['Player_Not_Favorite']\n",
    "    winner = row['Winner']\n",
    "\n",
    "    # Obtener las rachas antes del partido\n",
    "    streak_fav_val = win_streaks.get(fav, 0)\n",
    "    streak_not_fav_val = win_streaks.get(no_fav, 0)\n",
    "\n",
    "    streak_fav.append(streak_fav_val)\n",
    "    streak_not_fav.append(streak_not_fav_val)\n",
    "\n",
    "    # Actualizar rachas después del partido\n",
    "    if fav == winner:\n",
    "        win_streaks[fav] = streak_fav_val + 1\n",
    "        win_streaks[no_fav] = 0\n",
    "    else:\n",
    "        win_streaks[no_fav] = streak_not_fav_val + 1\n",
    "        win_streaks[fav] = 0\n",
    "\n",
    "# Añadir columnas al DataFrame\n",
    "df['WinStreak_Favorite'] = streak_fav\n",
    "df['WinStreak_Not_Favorite'] = streak_not_fav\n",
    "\n",
    "# Insertar justo después de Player_Not_Favorite\n",
    "idx = df.columns.get_loc(\"Player_Not_Favorite\")\n",
    "df.insert(idx + 1, \"WinStreak_Favorite\", df.pop(\"WinStreak_Favorite\"))\n",
    "df.insert(idx + 2, \"WinStreak_Not_Favorite\", df.pop(\"WinStreak_Not_Favorite\"))\n"
   ]
  },
  {
   "cell_type": "code",
   "execution_count": null,
   "id": "212383e5-f431-43b6-8155-3c8d1077317b",
   "metadata": {},
   "outputs": [],
   "source": [
    "# Definir la ruta base y el nombre del archivo de salida\n",
    "ruta_base = r\"./Modelo_Completo/columnas_añadidas\" \n",
    "nombre_archivo = 'winStreak.csv'"
   ]
  },
  {
   "cell_type": "code",
   "execution_count": null,
   "id": "238ed8b8-9a73-4d0f-bb2c-1881ea93b8be",
   "metadata": {},
   "outputs": [],
   "source": [
    "\n",
    "# Construir la ruta completa\n",
    "ruta_salida = os.path.join(ruta_base, nombre_archivo)\n",
    "\n",
    "# Guardar el DataFrame en un archivo CSV\n",
    "df.to_csv(ruta_salida, index=False, sep=';', decimal=',')"
   ]
  },
  {
   "cell_type": "markdown",
   "id": "b277e6f5-5123-41a1-b5a9-7aaa9bf54ff1",
   "metadata": {},
   "source": [
    "## GrandSlams_Favorite y GrandSlams_Not_Favorite\n",
    "Representa el número total de GrandSlams ganados por el jugador favorito y el no favorito antes del partido."
   ]
  },
  {
   "cell_type": "code",
   "execution_count": null,
   "id": "f5222ff9-0a1b-47b1-b033-22545226d3bb",
   "metadata": {},
   "outputs": [],
   "source": [
    "\n",
    "# Asegurarse de que la columna 'Date' está en formato datetime y ordenar cronológicamente\n",
    "df['Date'] = pd.to_datetime(df['Date'], errors='coerce')\n",
    "df = df.sort_values('Date')\n",
    "\n",
    "# Inicializar diccionario para contar Grand Slams ganados por jugador\n",
    "grand_slam_titles = {}\n",
    "\n",
    "# Listas para almacenar resultados por fila\n",
    "gs_fav = []\n",
    "gs_nofav = []\n",
    "\n",
    "# Iterar por filas del DataFrame\n",
    "for _, row in df.iterrows():\n",
    "    fav = row['Player_Favorite']\n",
    "    nofav = row['Player_Not_Favorite']\n",
    "    \n",
    "    # Inicializar si no existe\n",
    "    if fav not in grand_slam_titles:\n",
    "        grand_slam_titles[fav] = 0\n",
    "    if nofav not in grand_slam_titles:\n",
    "        grand_slam_titles[nofav] = 0\n",
    "    \n",
    "    # Guardar títulos antes del partido\n",
    "    gs_fav.append(grand_slam_titles[fav])\n",
    "    gs_nofav.append(grand_slam_titles[nofav])\n",
    "    \n",
    "    # Si es una final de Grand Slam, añadir uno al ganador\n",
    "    if row['Round'] == 'The Final' and row['Series'] == 'Grand Slam':\n",
    "        if row['Favorite_Wins'] == 1:\n",
    "            grand_slam_titles[fav] += 1\n",
    "        else:\n",
    "            grand_slam_titles[nofav] += 1\n",
    "\n",
    "# Añadir las nuevas columnas al DataFrame\n",
    "df['GrandSlams_Favorite'] = gs_fav\n",
    "df['GrandSlams_Not_Favorite'] = gs_nofav\n",
    "\n",
    "# Reordenar columnas para que queden justo después de Favorite_Wins\n",
    "cols = list(df.columns)\n",
    "favwins_index = cols.index('Favorite_Wins')\n",
    "\n",
    "# Insertar las nuevas columnas en la posición deseada\n",
    "cols.remove('GrandSlams_Favorite')\n",
    "cols.remove('GrandSlams_Not_Favorite')\n",
    "cols.insert(favwins_index + 1, 'GrandSlams_Favorite')\n",
    "cols.insert(favwins_index + 2, 'GrandSlams_Not_Favorite')\n",
    "\n",
    "# Reordenar el DataFrame\n",
    "df = df[cols]\n",
    "\n",
    "# Verificar ejemplo\n",
    "print(df[['Player_Favorite', 'Player_Not_Favorite', 'Favorite_Wins', 'GrandSlams_Favorite', 'GrandSlams_Not_Favorite']].head())\n",
    "\n"
   ]
  },
  {
   "cell_type": "code",
   "execution_count": null,
   "id": "7c74a87f-90de-435f-b9e8-5ec9996e31a1",
   "metadata": {},
   "outputs": [],
   "source": [
    "ruta_base = r\"./Modelo_Completo/columnas_añadidas\" \n",
    "nombre_archivo = 'GrandSlams.csv'"
   ]
  },
  {
   "cell_type": "code",
   "execution_count": null,
   "id": "33017a8c-309f-4657-b0b4-f8462ca2979c",
   "metadata": {},
   "outputs": [],
   "source": [
    "\n",
    "# Construir la ruta completa\n",
    "ruta_salida = os.path.join(ruta_base, nombre_archivo)\n",
    "\n",
    "# Guardar el DataFrame en un archivo CSV\n",
    "df.to_csv(ruta_salida, index=False, sep=';', decimal=',')"
   ]
  },
  {
   "cell_type": "markdown",
   "id": "5b1ea589-0d2f-467c-9997-29dcc701b509",
   "metadata": {},
   "source": [
    "## Master1000_Favorite y Master1000_Not_Favorite\n",
    "Representa el número total de master1000 ganados por el jugador favorito y el no favorito antes del partido."
   ]
  },
  {
   "cell_type": "code",
   "execution_count": null,
   "id": "7bf35ec0-a043-4e8c-b4b0-42a4150e2df3",
   "metadata": {},
   "outputs": [],
   "source": [
    "# 2. Normalizar fecha y ordenar\n",
    "df[\"Date\"] = pd.to_datetime(df[\"Date\"], errors=\"coerce\")\n",
    "df = df.sort_values(\"Date\")\n",
    "\n",
    "# 3. Diccionario donde iremos acumulando títulos Masters 1000 por jugador\n",
    "masters_titles = {}\n",
    "\n",
    "# 4. Listas para ir guardando el nº de títulos que cada jugador llevaba **antes** de cada partido\n",
    "m1000_fav  = []\n",
    "m1000_nfav = []\n",
    "\n",
    "for _, row in df.iterrows():\n",
    "    fav   = row[\"Player_Favorite\"]\n",
    "    nfav  = row[\"Player_Not_Favorite\"]\n",
    "    \n",
    "    # Inicializar si no existen todavía\n",
    "    if fav not in masters_titles:\n",
    "        masters_titles[fav] = 0\n",
    "    if nfav not in masters_titles:\n",
    "        masters_titles[nfav] = 0\n",
    "    \n",
    "    # Guardar el recuento antes de este partido\n",
    "    m1000_fav.append(masters_titles[fav])\n",
    "    m1000_nfav.append(masters_titles[nfav])\n",
    "    \n",
    "    # ¿Es la final de un Masters 1000?\n",
    "    if row[\"Round\"] == \"The Final\" and row[\"Series\"] in [\"Masters\", \"Masters 1000\"]:\n",
    "        if row[\"Favorite_Wins\"] == 1:\n",
    "            masters_titles[fav] += 1       # ganó el favorito\n",
    "        else:\n",
    "            masters_titles[nfav] += 1      # ganó el no-favorito\n",
    "\n",
    "# 5. Colocar las nuevas columnas en el DataFrame\n",
    "df[\"Masters1000_Favorite\"]     = m1000_fav\n",
    "df[\"Masters1000_Not_Favorite\"] = m1000_nfav\n",
    "\n",
    "# 6. (Opcional) reordenar las columnas para que queden justo después de Favorite_Wins\n",
    "cols            = list(df.columns)\n",
    "favwins_idx     = cols.index(\"Favorite_Wins\")\n",
    "cols.remove(\"Masters1000_Favorite\")\n",
    "cols.remove(\"Masters1000_Not_Favorite\")\n",
    "cols.insert(favwins_idx + 1, \"Masters1000_Favorite\")\n",
    "cols.insert(favwins_idx + 2, \"Masters1000_Not_Favorite\")\n",
    "df = df[cols]\n",
    "\n",
    "# 7. Comprobación rápida\n",
    "print(\n",
    "    df[\n",
    "        [\n",
    "            \"Player_Favorite\",\n",
    "            \"Player_Not_Favorite\",\n",
    "            \"Favorite_Wins\",\n",
    "            \"Masters1000_Favorite\",\n",
    "            \"Masters1000_Not_Favorite\",\n",
    "        ]\n",
    "    ].head()\n",
    ")"
   ]
  },
  {
   "cell_type": "code",
   "execution_count": null,
   "id": "a8e745d9-7b72-452b-b36b-44357f2a76a5",
   "metadata": {},
   "outputs": [],
   "source": [
    "ruta_base = r\"./Modelo_Completo/columnas_añadidas\" \n",
    "nombre_archivo = 'Master1000titles.csv'"
   ]
  },
  {
   "cell_type": "code",
   "execution_count": null,
   "id": "32f7a5d7-2523-4c11-83eb-18c2ae1dabd8",
   "metadata": {},
   "outputs": [],
   "source": [
    "\n",
    "# Construir la ruta completa\n",
    "ruta_salida = os.path.join(ruta_base, nombre_archivo)\n",
    "\n",
    "# Guardar el DataFrame en un archivo CSV\n",
    "df.to_csv(ruta_salida, index=False, sep=';', decimal=',')"
   ]
  },
  {
   "cell_type": "markdown",
   "id": "edbdefaf-1fa7-44aa-a29b-fd5fae7105f3",
   "metadata": {},
   "source": [
    "## Surface_WinRate_Favorite / Surface_WinRate_Not_Favorite / Surface_Matches_Favorite / Surface_Matches_Not_Favorite /Favorite Wins\n",
    "Representa el ratio de victorias de cada jugador en una superficie, es decir de los partidos que un jugador a jugado en una superficie, cuantos de ellos ha ganado  \n",
    "Suface_Matches_Favorite/Not_Favorite: Representa el número de partidos que ha jugado cada jugador en esa superficie.\n",
    "FavoriteWins indica si el jugador favorito ha ganado o no.\n"
   ]
  },
  {
   "cell_type": "code",
   "execution_count": null,
   "id": "9982efa1-6533-4397-912b-ebb7f57ab36a",
   "metadata": {},
   "outputs": [],
   "source": [
    "# Diccionario para almacenar historial por superficie\n",
    "surface_history = {}\n",
    "\n",
    "# Listas para las columnas\n",
    "surface_winrate_fav = []\n",
    "surface_winrate_nofav = []\n",
    "surface_matches_fav = []\n",
    "surface_matches_nofav = []\n",
    "\n",
    "# Iterar por el DataFrame\n",
    "for _, row in df.iterrows():\n",
    "    fav = row['Player_Favorite']\n",
    "    nofav = row['Player_Not_Favorite']\n",
    "    surface = row['Surface']\n",
    "    \n",
    "    for player in [fav, nofav]:\n",
    "        if player not in surface_history:\n",
    "            surface_history[player] = {}\n",
    "        if surface not in surface_history[player]:\n",
    "            surface_history[player][surface] = {'wins': 0, 'total': 0}\n",
    "    \n",
    "    fav_stats = surface_history[fav][surface]\n",
    "    nofav_stats = surface_history[nofav][surface]\n",
    "\n",
    "    # Winrate (si nunca jugó, poner 0.0)\n",
    "    wr_fav = fav_stats['wins'] / fav_stats['total'] if fav_stats['total'] > 0 else 0.0\n",
    "    wr_nofav = nofav_stats['wins'] / nofav_stats['total'] if nofav_stats['total'] > 0 else 0.0\n",
    "\n",
    "    surface_winrate_fav.append(wr_fav)\n",
    "    surface_winrate_nofav.append(wr_nofav)\n",
    "    surface_matches_fav.append(fav_stats['total'])\n",
    "    surface_matches_nofav.append(nofav_stats['total'])\n",
    "\n",
    "    # Actualizar historial\n",
    "    if row['Favorite_Wins'] == 1:\n",
    "        surface_history[fav][surface]['wins'] += 1\n",
    "    else:\n",
    "        surface_history[nofav][surface]['wins'] += 1\n",
    "\n",
    "    surface_history[fav][surface]['total'] += 1\n",
    "    surface_history[nofav][surface]['total'] += 1\n",
    "\n",
    "# Añadir columnas nuevas\n",
    "df['Surface_WinRate_Favorite'] = surface_winrate_fav\n",
    "df['Surface_WinRate_Not_Favorite'] = surface_winrate_nofav\n",
    "df['Surface_Matches_Favorite'] = surface_matches_fav\n",
    "df['Surface_Matches_Not_Favorite'] = surface_matches_nofav\n",
    "\n",
    "# Insertar después de 'Surface'\n",
    "cols = list(df.columns)\n",
    "surface_idx = cols.index('Surface')\n",
    "for col in ['Surface_WinRate_Favorite', 'Surface_WinRate_Not_Favorite', 'Surface_Matches_Favorite', 'Surface_Matches_Not_Favorite']:\n",
    "    cols.remove(col)\n",
    "cols[surface_idx + 1:surface_idx + 1] = ['Surface_WinRate_Favorite', 'Surface_WinRate_Not_Favorite', 'Surface_Matches_Favorite', 'Surface_Matches_Not_Favorite']\n",
    "df = df[cols]\n",
    "\n",
    "# Verificamos las nuevas columnas\n",
    "print(df[['Player_Favorite', 'Player_Not_Favorite', 'Surface',\n",
    "          'Surface_WinRate_Favorite', 'Surface_WinRate_Not_Favorite',\n",
    "          'Surface_Matches_Favorite', 'Surface_Matches_Not_Favorite']].head())\n"
   ]
  },
  {
   "cell_type": "code",
   "execution_count": null,
   "id": "e32b3bee-e50b-4587-b09b-dc5b33532d62",
   "metadata": {},
   "outputs": [],
   "source": [
    "ruta_base = r\"./Modelo_Completo/columnas_añadidas\" \n",
    "nombre_archivo = 'WinRateSurface.csv'"
   ]
  },
  {
   "cell_type": "code",
   "execution_count": null,
   "id": "47da502d-3db3-447a-acc6-48cf28265977",
   "metadata": {},
   "outputs": [],
   "source": [
    "# Construir la ruta completa\n",
    "ruta_salida = os.path.join(ruta_base, nombre_archivo)\n",
    "\n",
    "# Guardar el DataFrame en un archivo CSV\n",
    "df.to_csv(ruta_salida, index=False, sep=';', decimal=',')"
   ]
  },
  {
   "cell_type": "markdown",
   "id": "ad1a2e76-7bf5-4343-ac93-033d80f656a5",
   "metadata": {},
   "source": [
    "## Round Code\n",
    "Codifica las rondas en formato numérico"
   ]
  },
  {
   "cell_type": "code",
   "execution_count": null,
   "id": "1c77987a-774e-49cc-9bbc-fc925622a44b",
   "metadata": {},
   "outputs": [],
   "source": [
    "# Mapeo de rondas de Grand Slam a valores numéricos\n",
    "round_mapping = {\n",
    "    '1st Round': 1,\n",
    "    '2nd Round': 2,\n",
    "    '3rd Round': 3,\n",
    "    '4th Round': 4,\n",
    "    'Quarterfinals': 5,\n",
    "    'Semifinals': 6,\n",
    "    'The Final': 7\n",
    "}\n",
    "\n",
    "# Crear nueva columna 'Round_Code'\n",
    "df['Round_Code'] = df['Round'].map(round_mapping)\n",
    "\n",
    "# Reordenar: insertar justo después de la columna 'Round'\n",
    "cols = list(df.columns)\n",
    "round_index = cols.index('Round')\n",
    "cols.remove('Round_Code')\n",
    "cols.insert(round_index + 1, 'Round_Code')\n",
    "df = df[cols]\n"
   ]
  },
  {
   "cell_type": "code",
   "execution_count": null,
   "id": "d32e06fc-582c-4ffa-9b13-0c463152186d",
   "metadata": {},
   "outputs": [],
   "source": [
    "ruta_base = r\"./Modelo_Completo/columnas_añadidas\" \n",
    "nombre_archivo = 'RoundCode.csv'"
   ]
  },
  {
   "cell_type": "code",
   "execution_count": null,
   "id": "bc7cd485-566e-4fb9-b06b-64fbdf5f752d",
   "metadata": {},
   "outputs": [],
   "source": [
    "# Construir la ruta completa\n",
    "ruta_salida = os.path.join(ruta_base, nombre_archivo)\n",
    "\n",
    "# Guardar el DataFrame en un archivo CSV\n",
    "df.to_csv(ruta_salida, index=False, sep=';', decimal=',')"
   ]
  },
  {
   "cell_type": "markdown",
   "id": "580a067d-e85a-41b7-ae74-f69a98643813",
   "metadata": {},
   "source": [
    "## Win_Streak_Diff\n",
    "Diferencia de racha de victorias entre un jugador y otro"
   ]
  },
  {
   "cell_type": "code",
   "execution_count": null,
   "id": "d2bd572e-9ef2-4d76-832f-036e895f67b3",
   "metadata": {},
   "outputs": [],
   "source": [
    "# Asegurarse de que las columnas son numéricas\n",
    "df[\"WinStreak_Favorite\"] = pd.to_numeric(df[\"WinStreak_Favorite\"], errors=\"coerce\")\n",
    "df[\"WinStreak_Not_Favorite\"] = pd.to_numeric(df[\"WinStreak_Not_Favorite\"], errors=\"coerce\")\n",
    "\n",
    "# Crear la columna como diferencia de rachas\n",
    "df[\"Win_Streak_Diff\"] = df[\"WinStreak_Favorite\"] - df[\"WinStreak_Not_Favorite\"]\n",
    "\n",
    "# Reordenar para insertar justo después de WinStreak_Not_Favorite\n",
    "cols = list(df.columns)\n",
    "idx = cols.index(\"WinStreak_Not_Favorite\")\n",
    "cols.remove(\"Win_Streak_Diff\")\n",
    "cols.insert(idx + 1, \"Win_Streak_Diff\")\n",
    "df = df[cols]\n",
    "\n",
    "# Verifica las columnas relevantes\n",
    "print(df[[\"Player_Favorite\", \"WinStreak_Favorite\", \"Player_Not_Favorite\", \"WinStreak_Not_Favorite\", \"Win_Streak_Diff\"]].head())\n"
   ]
  },
  {
   "cell_type": "code",
   "execution_count": null,
   "id": "75a930d8-f4e3-462d-9954-fb981ccfe56b",
   "metadata": {},
   "outputs": [],
   "source": [
    "ruta_base = r\"./Modelo_Completo/columnas_añadidas\" \n",
    "nombre_archivo = 'diff_win_Streak.csv'"
   ]
  },
  {
   "cell_type": "code",
   "execution_count": null,
   "id": "13777cc2-9496-449d-8b71-16a4c22f43bd",
   "metadata": {},
   "outputs": [],
   "source": [
    "# Construir la ruta completa\n",
    "ruta_salida = os.path.join(ruta_base, nombre_archivo)\n",
    "\n",
    "# Guardar el DataFrame en un archivo CSV\n",
    "df.to_csv(ruta_salida, index=False, sep=';', decimal=',')"
   ]
  },
  {
   "cell_type": "markdown",
   "id": "a353bbdf-3ea5-4dff-8a70-88727834c3af",
   "metadata": {},
   "source": [
    "## ATP_Points_Favorite / ATP_Points_Not_Favorite\n",
    "Representan los puntos ATP del jugador favorito y del no favorito"
   ]
  },
  {
   "cell_type": "code",
   "execution_count": null,
   "id": "8d72bddd-a75f-4848-9643-08a348574d95",
   "metadata": {},
   "outputs": [],
   "source": [
    "\n",
    "# Asegurarse de que los nombres de columna estén bien \n",
    "# Convertir WPts y LPts a numéricos por seguridad\n",
    "df[\"WPts\"] = pd.to_numeric(df[\"WPts\"], errors=\"coerce\")\n",
    "df[\"LPts\"] = pd.to_numeric(df[\"LPts\"], errors=\"coerce\")\n",
    "\n",
    "# Crear las columnas según quién es el favorito\n",
    "fav_pts = []\n",
    "nofav_pts = []\n",
    "\n",
    "for _, row in df.iterrows():\n",
    "    if row[\"Player_Favorite\"] == row[\"Winner\"]:\n",
    "        fav_pts.append(row[\"WPts\"])\n",
    "        nofav_pts.append(row[\"LPts\"])\n",
    "    else:\n",
    "        fav_pts.append(row[\"LPts\"])\n",
    "        nofav_pts.append(row[\"WPts\"])\n",
    "\n",
    "# Agregar al DataFrame\n",
    "df[\"ATP_Points_Favorite\"] = fav_pts\n",
    "df[\"ATP_Points_Not_Favorite\"] = nofav_pts\n",
    "\n",
    "# Reordenar para colocarlas justo después de 'Comment'\n",
    "cols = list(df.columns)\n",
    "idx = cols.index(\"Comment\")\n",
    "cols.remove(\"ATP_Points_Favorite\")\n",
    "cols.remove(\"ATP_Points_Not_Favorite\")\n",
    "cols.insert(idx + 1, \"ATP_Points_Favorite\")\n",
    "cols.insert(idx + 2, \"ATP_Points_Not_Favorite\")\n",
    "df = df[cols]\n",
    "\n",
    "# Verificar resultado\n",
    "print(df[[\"Player_Favorite\", \"Player_Not_Favorite\", \"ATP_Points_Favorite\", \"ATP_Points_Not_Favorite\"]].head())\n",
    "\n"
   ]
  },
  {
   "cell_type": "code",
   "execution_count": null,
   "id": "20bfac34-1002-46f4-82f0-e650bf25bd62",
   "metadata": {},
   "outputs": [],
   "source": [
    "ruta_base = r\"./Modelo_Completo/columnas_añadidas\" \n",
    "nombre_archivo = 'Points_favorite.csv'"
   ]
  },
  {
   "cell_type": "code",
   "execution_count": null,
   "id": "63f54fef-98fc-4a52-85a6-f2e1c0833caf",
   "metadata": {},
   "outputs": [],
   "source": [
    "# Construir la ruta completa\n",
    "ruta_salida = os.path.join(ruta_base, nombre_archivo)\n",
    "\n",
    "# Guardar el DataFrame en un archivo CSV\n",
    "df.to_csv(ruta_salida, index=False, sep=';', decimal=',')"
   ]
  },
  {
   "cell_type": "markdown",
   "id": "4b3c9f42-fbac-4f2b-8f5a-79eb5508cba7",
   "metadata": {},
   "source": [
    "## Juegos Totales"
   ]
  },
  {
   "cell_type": "code",
   "execution_count": null,
   "id": "83faef13-5865-4c45-a366-01988be3cdbb",
   "metadata": {},
   "outputs": [],
   "source": [
    "import pandas as pd\n",
    "\n",
    "# Asegurarse de que estas columnas existen y están en el DataFrame\n",
    "cols_ganador = [\"W1\", \"W2\", \"W3\", \"W4\", \"W5\"]\n",
    "cols_perdedor = [\"L1\", \"L2\", \"L3\", \"L4\", \"L5\"]\n",
    "\n",
    "# Convertir a numérico, por si hay strings o NaNs\n",
    "for col in cols_ganador + cols_perdedor:\n",
    "    df[col] = pd.to_numeric(df[col], errors=\"coerce\")\n",
    "\n",
    "# Crear la nueva columna sumando todos los juegos jugados\n",
    "df[\"Total_Games\"] = df[cols_ganador + cols_perdedor].sum(axis=1)\n",
    "\n",
    "# Reubicar la nueva columna justo después de 'Lsets'\n",
    "cols = list(df.columns)\n",
    "idx = cols.index(\"Lsets\") + 1\n",
    "cols.remove(\"Total_Games\")\n",
    "cols.insert(idx, \"Total_Games\")\n",
    "df = df[cols]\n"
   ]
  },
  {
   "cell_type": "code",
   "execution_count": null,
   "id": "0139029b-3d29-4ba4-a249-0251b1143369",
   "metadata": {},
   "outputs": [],
   "source": [
    "ruta_base = r\"./Modelo_Completo/columnas_añadidas\" \n",
    "nombre_archivo = 'JuegosTotales.csv'"
   ]
  },
  {
   "cell_type": "code",
   "execution_count": null,
   "id": "9f2e40ae-932f-4d6a-9ed6-c4f2b6c454d8",
   "metadata": {},
   "outputs": [],
   "source": [
    "# Construir la ruta completa\n",
    "ruta_salida = os.path.join(ruta_base, nombre_archivo)\n",
    "\n",
    "# Guardar el DataFrame en un archivo CSV\n",
    "df.to_csv(ruta_salida, index=False, sep=';', decimal=',')"
   ]
  },
  {
   "cell_type": "markdown",
   "id": "ae2b48cc-1c72-45a2-a94e-7b470a1293b8",
   "metadata": {},
   "source": [
    "## Codificacion variables categoricas Surface y Comment"
   ]
  },
  {
   "cell_type": "code",
   "execution_count": null,
   "id": "403dff79-0dea-42e1-baba-c5bfe7ad60fc",
   "metadata": {},
   "outputs": [],
   "source": [
    "# --- Codificación de Surface ---\n",
    "# Crear variables dummy para 'Surface' sin eliminar la columna original\n",
    "df_surface_dummies = pd.get_dummies(df[\"Surface\"], prefix=\"Surface\")\n",
    "\n",
    "# Obtener índice de la columna original 'Surface'\n",
    "surface_index = df.columns.get_loc(\"Surface\")\n",
    "\n",
    "# Insertar columnas dummy justo después de 'Surface'\n",
    "for i, col in enumerate(df_surface_dummies.columns):\n",
    "    df.insert(surface_index + 1 + i, col, df_surface_dummies[col])\n",
    "\n",
    "# --- Codificación de Comment ---\n",
    "# Crear columna binaria 'Completed' según si el partido fue 'Completed'\n",
    "df[\"Completed\"] = (df[\"Comment\"].str.lower() == \"completed\").astype(int)\n",
    "\n",
    "# Reubicar 'Completed' justo después de 'Comment'\n",
    "comment_index = df.columns.get_loc(\"Comment\")\n",
    "col_completed = df.pop(\"Completed\")  # eliminar temporalmente\n",
    "df.insert(comment_index + 1, \"Completed\", col_completed)  # volver a insertar en la posición correcta\n"
   ]
  },
  {
   "cell_type": "code",
   "execution_count": null,
   "id": "c6a0ec35-aabd-4556-be7c-5dd74be27ba2",
   "metadata": {},
   "outputs": [],
   "source": [
    "ruta_base = r\"./Modelo_Completo/columnas_añadidas\" \n",
    "nombre_archivo = 'surface_comment.csv'"
   ]
  },
  {
   "cell_type": "code",
   "execution_count": null,
   "id": "12ef5044-e724-4254-9736-6c2f94709b8d",
   "metadata": {},
   "outputs": [],
   "source": [
    "# Construir la ruta completa\n",
    "ruta_salida = os.path.join(ruta_base, nombre_archivo)\n",
    "\n",
    "# Guardar el DataFrame en un archivo CSV\n",
    "df.to_csv(ruta_salida, index=False, sep=';', decimal=',')"
   ]
  },
  {
   "cell_type": "markdown",
   "id": "9953b828-21ca-44d6-b80d-9dbd2d9e874f",
   "metadata": {},
   "source": [
    "## Pierde el favorito"
   ]
  },
  {
   "cell_type": "code",
   "execution_count": null,
   "id": "3ed01a23-57fc-4eb3-86aa-012dd0b84742",
   "metadata": {},
   "outputs": [],
   "source": [
    "# Asegúrate de que la columna 'Favorite_Wins' existe\n",
    "if \"Favorite_Wins\" in df.columns:\n",
    "    # Si la columna ya existe, elimínala para evitar errores al insertar\n",
    "    if \"Favorite_Loses\" in df.columns:\n",
    "        df.drop(columns=\"Favorite_Loses\", inplace=True)\n",
    "    \n",
    "    # Crear nueva columna: 1 si pierde el favorito, 0 si gana\n",
    "    loses_col = (1 - df[\"Favorite_Wins\"]).astype(int)\n",
    "    df.insert(\n",
    "        loc=df.columns.get_loc(\"Favorite_Wins\") + 1,\n",
    "        column=\"Favorite_Loses\",\n",
    "        value=loses_col\n",
    "    )\n",
    "else:\n",
    "    print(\"No se encontró la columna 'Favorite_Wins'. Verifica el nombre.\")\n",
    "\n",
    "\n"
   ]
  },
  {
   "cell_type": "code",
   "execution_count": null,
   "id": "8adee57b-1b45-48fc-a496-b1862ffd3f56",
   "metadata": {},
   "outputs": [],
   "source": [
    "ruta_base = r\"./Modelo_Completo/columnas_añadidas\" \n",
    "nombre_archivo = 'datasetFinal.csv'"
   ]
  },
  {
   "cell_type": "code",
   "execution_count": null,
   "id": "841e04f8-8976-4a1a-a5f2-c04403c5e696",
   "metadata": {},
   "outputs": [],
   "source": [
    "# Construir la ruta completa\n",
    "ruta_salida = os.path.join(ruta_base, nombre_archivo)\n",
    "\n",
    "# Guardar el DataFrame en un archivo CSV\n",
    "df.to_csv(ruta_salida, index=False, sep=';', decimal=',')"
   ]
  },
  {
   "cell_type": "markdown",
   "id": "158dc413-facf-4532-a49e-216667a1be35",
   "metadata": {},
   "source": [
    "## Escalado de variables\n",
    "Se usará StandardScaler para el escalado de variables"
   ]
  },
  {
   "cell_type": "code",
   "execution_count": null,
   "id": "67e6d95c-4730-4af0-a1ff-f9ddac495b4e",
   "metadata": {},
   "outputs": [],
   "source": [
    "# Lista de columnas a escalar\n",
    "features_to_scale = [\n",
    "    \"Surface_WinRate_Favorite\", \"Surface_WinRate_Not_Favorite\",\n",
    "    \"Surface_Matches_Favorite\", \"Surface_Matches_Not_Favorite\",\n",
    "    \"WinStreak_Favorite\", \"WinStreak_Not_Favorite\", \"Win_Streak_Diff\",\n",
    "    \"Rank_Favorite\", \"Rank_Not_Favorite\", \"Rank_Diff_Signed\", \"Rank_Diff_Abs\",\n",
    "    \"GrandSlams_Favorite\", \"GrandSlams_Not_Favorite\",\n",
    "    \"Masters1000_Favorite\",\"Masters1000_Not_Favorite\"\n",
    "]\n",
    "\n",
    "# Asegurarse de que son numéricos\n",
    "for col in features_to_scale:\n",
    "    df[col] = pd.to_numeric(df[col], errors=\"coerce\")\n",
    "\n",
    "# Escalado con StandardScaler\n",
    "scaler = StandardScaler()\n",
    "df[features_to_scale] = scaler.fit_transform(df[features_to_scale])\n"
   ]
  },
  {
   "cell_type": "code",
   "execution_count": null,
   "id": "4bb26d7c-63ed-4ad0-a031-c3f7e70755db",
   "metadata": {},
   "outputs": [],
   "source": [
    "ruta_base = r\"./Modelo_Completo/columnas_añadidas\" \n",
    "nombre_archivo = 'escaladofinal.csv'"
   ]
  },
  {
   "cell_type": "code",
   "execution_count": null,
   "id": "00c53907-a0ac-4535-ae69-362199f2d4a6",
   "metadata": {},
   "outputs": [],
   "source": [
    "# Construir la ruta completa\n",
    "ruta_salida = os.path.join(ruta_base, nombre_archivo)\n",
    "\n",
    "# Guardar el DataFrame en un archivo CSV\n",
    "df.to_csv(ruta_salida, index=False, sep=';', decimal=',')"
   ]
  }
 ],
 "metadata": {
  "kernelspec": {
   "display_name": "Python 3 (ipykernel)",
   "language": "python",
   "name": "python3"
  },
  "language_info": {
   "codemirror_mode": {
    "name": "ipython",
    "version": 3
   },
   "file_extension": ".py",
   "mimetype": "text/x-python",
   "name": "python",
   "nbconvert_exporter": "python",
   "pygments_lexer": "ipython3",
   "version": "3.11.11"
  }
 },
 "nbformat": 4,
 "nbformat_minor": 5
}
